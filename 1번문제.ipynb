{
 "cells": [
  {
   "cell_type": "code",
   "execution_count": 4,
   "id": "3fe3fafd",
   "metadata": {},
   "outputs": [
    {
     "name": "stdout",
     "output_type": "stream",
     "text": [
      "item_name\n",
      "Chicken Bowl           7342.73\n",
      "Chicken Burrito        5575.82\n",
      "Steak Burrito          3851.43\n",
      "Steak Bowl             2260.19\n",
      "Chips and Guacamole    2201.04\n",
      "Chicken Salad Bowl     1228.75\n",
      "Chicken Soft Tacos     1108.09\n",
      "Veggie Burrito          934.77\n",
      "Barbacoa Burrito        894.75\n",
      "Veggie Bowl             867.99\n",
      "Name: item_price, dtype: float64\n"
     ]
    }
   ],
   "source": [
    "import pandas as pd\n",
    "\n",
    "# 데이터 불러오기\n",
    "file_path = '../data/chipotle.tsv'\n",
    "chipo = pd.read_csv(file_path, sep='\\t')\n",
    "\n",
    "# 가격 정보 숫자형 변환\n",
    "chipo['item_price'] = chipo['item_price'].apply(lambda x: float(x[1:-1]))\n",
    "\n",
    "# 각 아이템 총 판매액 계산\n",
    "item_sum = chipo.groupby('item_name')['item_price'].sum()\n",
    "\n",
    "# 총 판매액 순 정렬 \n",
    "# 상위 10개 아이템 출력\n",
    "top_10_items = item_sum.sort_values(ascending=False).head(10)\n",
    "print(top_10_items)"
   ]
  },
  {
   "cell_type": "markdown",
   "id": "7b6059eb",
   "metadata": {},
   "source": [
    "\n",
    "\n",
    "먼저, 'chipotle.tsv' 파일을 불러와서 chipo 변수에 저장\n",
    "\n",
    "가격 정보를 숫자형으로 변환 위해 apply 함수를 이용\n",
    "\n",
    "각 가격의 앞뒤에 있는 달러 기호와 따옴표를 제거\n",
    "\n",
    "결과를 float 형으로 변환\n",
    "\n",
    "item_name 기준으로 그룹화하여 각 아이템의 총 판매액을 계산 \n",
    " groupby 함수를 이용,  sum 함수를 적용\n",
    "\n",
    " 각 아이템의 총 판매액을 내림차순으로 정렬하여 상위 10개 아이템을 선택 및 출력 "
   ]
  },
  {
   "cell_type": "code",
   "execution_count": null,
   "id": "bd0eb635",
   "metadata": {},
   "outputs": [],
   "source": []
  }
 ],
 "metadata": {
  "kernelspec": {
   "display_name": "Python 3 (ipykernel)",
   "language": "python",
   "name": "python3"
  },
  "language_info": {
   "codemirror_mode": {
    "name": "ipython",
    "version": 3
   },
   "file_extension": ".py",
   "mimetype": "text/x-python",
   "name": "python",
   "nbconvert_exporter": "python",
   "pygments_lexer": "ipython3",
   "version": "3.8.16"
  }
 },
 "nbformat": 4,
 "nbformat_minor": 5
}
