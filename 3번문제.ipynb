{
 "cells": [
  {
   "cell_type": "code",
   "execution_count": 4,
   "id": "c6b7ad72",
   "metadata": {},
   "outputs": [
    {
     "name": "stdout",
     "output_type": "stream",
     "text": [
      "한화 평균 연봉: 22253.846153846152\n",
      "SK 평균 연봉: 17736.842105263157\n",
      "t-test 통계량: 0.6624041217840793\n",
      "p-value: 0.5099280465043418\n"
     ]
    }
   ],
   "source": [
    "import pandas as pd\n",
    "import numpy as np\n",
    "import matplotlib.pyplot as plt\n",
    "from scipy.stats import ttest_ind\n",
    "\n",
    "import warnings\n",
    "warnings.filterwarnings(\"ignore\")\n",
    "\n",
    "# 데이터 불러오기\n",
    "picher_file_path = '../data/picher_stats_2017.csv'\n",
    "batter_file_path = '../data/batter_stats_2017.csv'\n",
    "picher = pd.read_csv(picher_file_path)\n",
    "batter = pd.read_csv(batter_file_path)\n",
    "\n",
    "# 팀 정보, 연봉 정보 포함된 데이터프레임 생성\n",
    "baseball = pd.concat([picher, batter])\n",
    "\n",
    "\n",
    "\n",
    "# 한화와 SK 데이터 추출\n",
    "HanWha = baseball.loc[baseball['팀명'] == '한화']\n",
    "SK = baseball.loc[baseball['팀명'] == 'SK']\n",
    "\n",
    "# 각 팀의 연봉 평균 계산\n",
    "HanWha_salary = HanWha['연봉(2017)'].mean()\n",
    "SK_salary = SK['연봉(2017)'].mean()\n",
    "\n",
    "# t-test로 두 팀 간의 차이 검정\n",
    "t_stat, p_val = ttest_ind(HanWha['연봉(2017)'], SK['연봉(2017)'], equal_var=False)\n",
    "\n",
    "print('한화 평균 연봉:', HanWha_salary)\n",
    "print('SK 평균 연봉:', SK_salary)\n",
    "print('t-test 통계량:', t_stat)\n",
    "print('p-value:', p_val)"
   ]
  },
  {
   "cell_type": "code",
   "execution_count": 5,
   "id": "3bd915ff",
   "metadata": {},
   "outputs": [],
   "source": [
    "#해당 t-test 결과에서 p-value가 0.5099로 나왔으므로, 유의수준 0.05에서 검정했을 때 p_value가 높기 때문에 \n",
    "#한화와 SK의 연봉 평균 간에는 통계적으로 유의미한 차이가 없다고 할 수 있다."
   ]
  },
  {
   "cell_type": "code",
   "execution_count": null,
   "id": "7cb12283",
   "metadata": {},
   "outputs": [],
   "source": []
  }
 ],
 "metadata": {
  "kernelspec": {
   "display_name": "Python 3 (ipykernel)",
   "language": "python",
   "name": "python3"
  },
  "language_info": {
   "codemirror_mode": {
    "name": "ipython",
    "version": 3
   },
   "file_extension": ".py",
   "mimetype": "text/x-python",
   "name": "python",
   "nbconvert_exporter": "python",
   "pygments_lexer": "ipython3",
   "version": "3.8.16"
  }
 },
 "nbformat": 4,
 "nbformat_minor": 5
}
