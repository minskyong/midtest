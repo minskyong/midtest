{
 "cells": [
  {
   "cell_type": "markdown",
   "metadata": {},
   "source": [
    "Copyright (c) 2019 [윤기태]\n",
    "\n",
    "https://github.com/yoonkt200/python-data-analysis\n",
    "\n",
    "[MIT License](https://github.com/yoonkt200/python-data-analysis/blob/master/LICENSE.txt)"
   ]
  },
  {
   "cell_type": "markdown",
   "metadata": {},
   "source": [
    "# (가제) 파이썬 데이터 분석"
   ]
  },
  {
   "cell_type": "markdown",
   "metadata": {},
   "source": [
    "-----"
   ]
  },
  {
   "cell_type": "markdown",
   "metadata": {},
   "source": [
    "# 3.1) 국내 프로야구 연봉 예측"
   ]
  },
  {
   "cell_type": "markdown",
   "metadata": {},
   "source": [
    "### 바로가기"
   ]
  },
  {
   "cell_type": "markdown",
   "metadata": {},
   "source": [
    "- [<Step1. 탐색> 프로야구 연봉 데이터 살펴보기](#<Step1.-탐색>-프로야구-연봉-데이터-살펴보기)\n",
    "    - [프로야구 연봉 데이터셋의 기본 정보]\n",
    "    - [회귀 분석에 사용할 피처 살펴보기]\n",
    "- [<Step2. 예측> : 투수의 연봉 예측하기](#<Step2.-예측>-:-투수의-연봉-예측하기)\n",
    "    - [피처들의 단위 맞춰주기 : 피처 스케일링]\n",
    "    - [피처들의 단위 맞춰주기 : one-hot-encoding]\n",
    "    - [피처들의 상관관계 분석]\n",
    "    - [회귀 분석 적용하기]\n",
    "- [<Step3. 평가> : 예측 모델 평가하기](#<Step3.-평가>-:-예측-모델-평가하기)\n",
    "    - [어떤 피처가 가장 영향력이 강한 피처일까]\n",
    "    - [예측 모델의 평가]\n",
    "    - [회귀 분석 예측 성능을 높이기 위한 방법 : 다중 공선성 확인]\n",
    "    - [믿을만한 피처로 다시 학습하기]\n",
    "- [<Step4. 시각화> : 분석 결과의 시각화](#<Step4.-시각화>-:-분석-결과의-시각화)\n",
    "    - [예상 연봉과 실제 연봉 비교]"
   ]
  },
  {
   "cell_type": "markdown",
   "metadata": {},
   "source": [
    "-----"
   ]
  },
  {
   "cell_type": "code",
   "execution_count": 26,
   "metadata": {},
   "outputs": [],
   "source": [
    "# -*- coding: utf-8 -*-\n",
    "\n",
    "%matplotlib inline\n",
    "\n",
    "import pandas as pd\n",
    "import numpy as np\n",
    "import matplotlib.pyplot as plt\n",
    "\n",
    "import warnings\n",
    "warnings.filterwarnings(\"ignore\")"
   ]
  },
  {
   "cell_type": "markdown",
   "metadata": {},
   "source": [
    "# <Step1. 탐색> 프로야구 연봉 데이터 살펴보기"
   ]
  },
  {
   "cell_type": "markdown",
   "metadata": {},
   "source": [
    "### [프로야구 연봉 데이터셋의 기본 정보]"
   ]
  },
  {
   "cell_type": "code",
   "execution_count": 47,
   "metadata": {},
   "outputs": [],
   "source": [
    "# Data Source : http://www.statiz.co.kr/\n",
    "\n",
    "picher_file_path = '../data/picher_stats_2017.csv'\n",
    "batter_file_path = '../data/batter_stats_2017.csv'\n",
    "picher = pd.read_csv(picher_file_path)\n",
    "batter = pd.read_csv(batter_file_path)"
   ]
  },
  {
   "cell_type": "code",
   "execution_count": 48,
   "metadata": {},
   "outputs": [
    {
     "data": {
      "text/plain": [
       "Index(['선수명', '팀명', '승', '패', '세', '홀드', '블론', '경기', '선발', '이닝', '삼진/9',\n",
       "       '볼넷/9', '홈런/9', 'BABIP', 'LOB%', 'ERA', 'RA9-WAR', 'FIP', 'kFIP', 'WAR',\n",
       "       '연봉(2018)', '연봉(2017)'],\n",
       "      dtype='object')"
      ]
     },
     "execution_count": 48,
     "metadata": {},
     "output_type": "execute_result"
    }
   ],
   "source": [
    "picher.columns"
   ]
  },
  {
   "cell_type": "code",
   "execution_count": 49,
   "metadata": {},
   "outputs": [
    {
     "data": {
      "text/html": [
       "<div>\n",
       "<style scoped>\n",
       "    .dataframe tbody tr th:only-of-type {\n",
       "        vertical-align: middle;\n",
       "    }\n",
       "\n",
       "    .dataframe tbody tr th {\n",
       "        vertical-align: top;\n",
       "    }\n",
       "\n",
       "    .dataframe thead th {\n",
       "        text-align: right;\n",
       "    }\n",
       "</style>\n",
       "<table border=\"1\" class=\"dataframe\">\n",
       "  <thead>\n",
       "    <tr style=\"text-align: right;\">\n",
       "      <th></th>\n",
       "      <th>선수명</th>\n",
       "      <th>팀명</th>\n",
       "      <th>승</th>\n",
       "      <th>패</th>\n",
       "      <th>세</th>\n",
       "      <th>홀드</th>\n",
       "      <th>블론</th>\n",
       "      <th>경기</th>\n",
       "      <th>선발</th>\n",
       "      <th>이닝</th>\n",
       "      <th>...</th>\n",
       "      <th>홈런/9</th>\n",
       "      <th>BABIP</th>\n",
       "      <th>LOB%</th>\n",
       "      <th>ERA</th>\n",
       "      <th>RA9-WAR</th>\n",
       "      <th>FIP</th>\n",
       "      <th>kFIP</th>\n",
       "      <th>WAR</th>\n",
       "      <th>연봉(2018)</th>\n",
       "      <th>연봉(2017)</th>\n",
       "    </tr>\n",
       "  </thead>\n",
       "  <tbody>\n",
       "    <tr>\n",
       "      <th>0</th>\n",
       "      <td>켈리</td>\n",
       "      <td>SK</td>\n",
       "      <td>16</td>\n",
       "      <td>7</td>\n",
       "      <td>0</td>\n",
       "      <td>0</td>\n",
       "      <td>0</td>\n",
       "      <td>30</td>\n",
       "      <td>30</td>\n",
       "      <td>190.0</td>\n",
       "      <td>...</td>\n",
       "      <td>0.76</td>\n",
       "      <td>0.342</td>\n",
       "      <td>73.7</td>\n",
       "      <td>3.60</td>\n",
       "      <td>6.91</td>\n",
       "      <td>3.69</td>\n",
       "      <td>3.44</td>\n",
       "      <td>6.62</td>\n",
       "      <td>140000</td>\n",
       "      <td>85000</td>\n",
       "    </tr>\n",
       "    <tr>\n",
       "      <th>1</th>\n",
       "      <td>소사</td>\n",
       "      <td>LG</td>\n",
       "      <td>11</td>\n",
       "      <td>11</td>\n",
       "      <td>1</td>\n",
       "      <td>0</td>\n",
       "      <td>0</td>\n",
       "      <td>30</td>\n",
       "      <td>29</td>\n",
       "      <td>185.1</td>\n",
       "      <td>...</td>\n",
       "      <td>0.53</td>\n",
       "      <td>0.319</td>\n",
       "      <td>67.1</td>\n",
       "      <td>3.88</td>\n",
       "      <td>6.80</td>\n",
       "      <td>3.52</td>\n",
       "      <td>3.41</td>\n",
       "      <td>6.08</td>\n",
       "      <td>120000</td>\n",
       "      <td>50000</td>\n",
       "    </tr>\n",
       "    <tr>\n",
       "      <th>2</th>\n",
       "      <td>양현종</td>\n",
       "      <td>KIA</td>\n",
       "      <td>20</td>\n",
       "      <td>6</td>\n",
       "      <td>0</td>\n",
       "      <td>0</td>\n",
       "      <td>0</td>\n",
       "      <td>31</td>\n",
       "      <td>31</td>\n",
       "      <td>193.1</td>\n",
       "      <td>...</td>\n",
       "      <td>0.79</td>\n",
       "      <td>0.332</td>\n",
       "      <td>72.1</td>\n",
       "      <td>3.44</td>\n",
       "      <td>6.54</td>\n",
       "      <td>3.94</td>\n",
       "      <td>3.82</td>\n",
       "      <td>5.64</td>\n",
       "      <td>230000</td>\n",
       "      <td>150000</td>\n",
       "    </tr>\n",
       "    <tr>\n",
       "      <th>3</th>\n",
       "      <td>차우찬</td>\n",
       "      <td>LG</td>\n",
       "      <td>10</td>\n",
       "      <td>7</td>\n",
       "      <td>0</td>\n",
       "      <td>0</td>\n",
       "      <td>0</td>\n",
       "      <td>28</td>\n",
       "      <td>28</td>\n",
       "      <td>175.2</td>\n",
       "      <td>...</td>\n",
       "      <td>1.02</td>\n",
       "      <td>0.298</td>\n",
       "      <td>75.0</td>\n",
       "      <td>3.43</td>\n",
       "      <td>6.11</td>\n",
       "      <td>4.20</td>\n",
       "      <td>4.03</td>\n",
       "      <td>4.63</td>\n",
       "      <td>100000</td>\n",
       "      <td>100000</td>\n",
       "    </tr>\n",
       "    <tr>\n",
       "      <th>4</th>\n",
       "      <td>레일리</td>\n",
       "      <td>롯데</td>\n",
       "      <td>13</td>\n",
       "      <td>7</td>\n",
       "      <td>0</td>\n",
       "      <td>0</td>\n",
       "      <td>0</td>\n",
       "      <td>30</td>\n",
       "      <td>30</td>\n",
       "      <td>187.1</td>\n",
       "      <td>...</td>\n",
       "      <td>0.91</td>\n",
       "      <td>0.323</td>\n",
       "      <td>74.1</td>\n",
       "      <td>3.80</td>\n",
       "      <td>6.13</td>\n",
       "      <td>4.36</td>\n",
       "      <td>4.31</td>\n",
       "      <td>4.38</td>\n",
       "      <td>111000</td>\n",
       "      <td>85000</td>\n",
       "    </tr>\n",
       "  </tbody>\n",
       "</table>\n",
       "<p>5 rows × 22 columns</p>\n",
       "</div>"
      ],
      "text/plain": [
       "   선수명   팀명   승   패  세  홀드  블론  경기  선발     이닝  ...  홈런/9  BABIP  LOB%   ERA  \\\n",
       "0   켈리   SK  16   7  0   0   0  30  30  190.0  ...  0.76  0.342  73.7  3.60   \n",
       "1   소사   LG  11  11  1   0   0  30  29  185.1  ...  0.53  0.319  67.1  3.88   \n",
       "2  양현종  KIA  20   6  0   0   0  31  31  193.1  ...  0.79  0.332  72.1  3.44   \n",
       "3  차우찬   LG  10   7  0   0   0  28  28  175.2  ...  1.02  0.298  75.0  3.43   \n",
       "4  레일리   롯데  13   7  0   0   0  30  30  187.1  ...  0.91  0.323  74.1  3.80   \n",
       "\n",
       "   RA9-WAR   FIP  kFIP   WAR  연봉(2018)  연봉(2017)  \n",
       "0     6.91  3.69  3.44  6.62    140000     85000  \n",
       "1     6.80  3.52  3.41  6.08    120000     50000  \n",
       "2     6.54  3.94  3.82  5.64    230000    150000  \n",
       "3     6.11  4.20  4.03  4.63    100000    100000  \n",
       "4     6.13  4.36  4.31  4.38    111000     85000  \n",
       "\n",
       "[5 rows x 22 columns]"
      ]
     },
     "execution_count": 49,
     "metadata": {},
     "output_type": "execute_result"
    }
   ],
   "source": [
    "picher.head()"
   ]
  },
  {
   "cell_type": "code",
   "execution_count": 50,
   "metadata": {},
   "outputs": [
    {
     "name": "stdout",
     "output_type": "stream",
     "text": [
      "(152, 22)\n"
     ]
    }
   ],
   "source": [
    "print(picher.shape)"
   ]
  },
  {
   "cell_type": "markdown",
   "metadata": {},
   "source": [
    "-----"
   ]
  },
  {
   "cell_type": "markdown",
   "metadata": {},
   "source": [
    "### `[참고 - 한글을 사용하는 그래프]`\n",
    "- 파이썬에서 matplotlib 기반의 시각화 툴을 이용할 때 한글 폰트를 사용하는 방법\n",
    "    - 자신의 개발환경에 설치된 폰트 확인\n",
    "        - `set(sorted([f.name for f in mpl.font_manager.fontManager.ttflist]))`\n",
    "    - 한글 폰트를 설정한 뒤, 축에 적용\n",
    "        - 예시 :`mpl.rc('font', family='08SeoulHangang')`\n",
    "    - 한글 폰트가 없다면, http://hangeul.naver.com/2017/nanum 에서 설치"
   ]
  },
  {
   "cell_type": "code",
   "execution_count": 51,
   "metadata": {},
   "outputs": [
    {
     "data": {
      "text/plain": [
       "{'Arial',\n",
       " 'Bahnschrift',\n",
       " 'Batang',\n",
       " 'Calibri',\n",
       " 'Cambria',\n",
       " 'Candara',\n",
       " 'Comic Sans MS',\n",
       " 'Consolas',\n",
       " 'Constantia',\n",
       " 'Corbel',\n",
       " 'Courier New',\n",
       " 'DejaVu Sans',\n",
       " 'DejaVu Sans Display',\n",
       " 'DejaVu Sans Mono',\n",
       " 'DejaVu Serif',\n",
       " 'DejaVu Serif Display',\n",
       " 'Ebrima',\n",
       " 'Franklin Gothic Medium',\n",
       " 'Gabriola',\n",
       " 'Gadugi',\n",
       " 'Georgia',\n",
       " 'Gulim',\n",
       " 'HCR Batang',\n",
       " 'HCR Batang Ext',\n",
       " 'HCR Batang ExtB',\n",
       " 'HCR Dotum',\n",
       " 'HCR Dotum Ext',\n",
       " 'Haan Wing2',\n",
       " 'Han Santteut Dotum',\n",
       " 'Hancom Gothic',\n",
       " 'HancomEQN',\n",
       " 'HoloLens MDL2 Assets',\n",
       " 'HyhwpEQ',\n",
       " 'Impact',\n",
       " 'Ink Free',\n",
       " 'Javanese Text',\n",
       " 'Leelawadee UI',\n",
       " 'Lucida Console',\n",
       " 'Lucida Sans Unicode',\n",
       " 'MS Gothic',\n",
       " 'MV Boli',\n",
       " 'Malgun Gothic',\n",
       " 'Microsoft Himalaya',\n",
       " 'Microsoft JhengHei',\n",
       " 'Microsoft New Tai Lue',\n",
       " 'Microsoft PhagsPa',\n",
       " 'Microsoft Sans Serif',\n",
       " 'Microsoft Tai Le',\n",
       " 'Microsoft YaHei',\n",
       " 'Microsoft Yi Baiti',\n",
       " 'MingLiU-ExtB',\n",
       " 'Mongolian Baiti',\n",
       " 'Myanmar Text',\n",
       " 'NewJumja',\n",
       " 'Nirmala UI',\n",
       " 'Palatino Linotype',\n",
       " 'STIXGeneral',\n",
       " 'STIXNonUnicode',\n",
       " 'STIXSizeFiveSym',\n",
       " 'STIXSizeFourSym',\n",
       " 'STIXSizeOneSym',\n",
       " 'STIXSizeThreeSym',\n",
       " 'STIXSizeTwoSym',\n",
       " 'Segoe MDL2 Assets',\n",
       " 'Segoe Print',\n",
       " 'Segoe Script',\n",
       " 'Segoe UI',\n",
       " 'Segoe UI Emoji',\n",
       " 'Segoe UI Historic',\n",
       " 'Segoe UI Symbol',\n",
       " 'SimSun',\n",
       " 'SimSun-ExtB',\n",
       " 'Sitka Small',\n",
       " 'Sylfaen',\n",
       " 'Symbol',\n",
       " 'Tahoma',\n",
       " 'Times New Roman',\n",
       " 'Trebuchet MS',\n",
       " 'Verdana',\n",
       " 'Webdings',\n",
       " 'Wingdings',\n",
       " 'Yu Gothic',\n",
       " 'cmb10',\n",
       " 'cmex10',\n",
       " 'cmmi10',\n",
       " 'cmr10',\n",
       " 'cmss10',\n",
       " 'cmsy10',\n",
       " 'cmtt10'}"
      ]
     },
     "execution_count": 51,
     "metadata": {},
     "output_type": "execute_result"
    }
   ],
   "source": [
    "import matplotlib as mpl\n",
    "set(sorted([f.name for f in mpl.font_manager.fontManager.ttflist])) # 현재 OS 내에 설치된 폰트를 확인합니다."
   ]
  },
  {
   "cell_type": "code",
   "execution_count": 52,
   "metadata": {},
   "outputs": [],
   "source": [
    "mpl.rc('font', family='NanumGothicOTF') # 자신의 OS에 존재하는 한글 폰트를 선택합니다. 없는경우, 위의 링크에서 한글폰트 설치 후 실행합니다."
   ]
  },
  {
   "cell_type": "markdown",
   "metadata": {},
   "source": [
    "###### 예측할 대상인 '연봉'에 대한 정보"
   ]
  },
  {
   "cell_type": "code",
   "execution_count": 53,
   "metadata": {},
   "outputs": [
    {
     "data": {
      "text/plain": [
       "count       152.000000\n",
       "mean      18932.236842\n",
       "std       30940.732924\n",
       "min        2700.000000\n",
       "25%        4000.000000\n",
       "50%        7550.000000\n",
       "75%       18500.000000\n",
       "max      230000.000000\n",
       "Name: 연봉(2018), dtype: float64"
      ]
     },
     "execution_count": 53,
     "metadata": {},
     "output_type": "execute_result"
    }
   ],
   "source": [
    "picher['연봉(2018)'].describe()"
   ]
  },
  {
   "cell_type": "code",
   "execution_count": 54,
   "metadata": {},
   "outputs": [
    {
     "data": {
      "text/plain": [
       "<Axes: >"
      ]
     },
     "execution_count": 54,
     "metadata": {},
     "output_type": "execute_result"
    },
    {
     "name": "stderr",
     "output_type": "stream",
     "text": [
      "findfont: Font family 'NanumGothicOTF' not found.\n",
      "findfont: Font family 'NanumGothicOTF' not found.\n",
      "findfont: Font family 'NanumGothicOTF' not found.\n",
      "findfont: Font family 'NanumGothicOTF' not found.\n",
      "findfont: Font family 'NanumGothicOTF' not found.\n",
      "findfont: Font family 'NanumGothicOTF' not found.\n",
      "findfont: Font family 'NanumGothicOTF' not found.\n",
      "findfont: Font family 'NanumGothicOTF' not found.\n",
      "findfont: Font family 'NanumGothicOTF' not found.\n",
      "findfont: Font family 'NanumGothicOTF' not found.\n",
      "findfont: Font family 'NanumGothicOTF' not found.\n",
      "findfont: Font family 'NanumGothicOTF' not found.\n",
      "findfont: Font family 'NanumGothicOTF' not found.\n",
      "findfont: Font family 'NanumGothicOTF' not found.\n",
      "findfont: Font family 'NanumGothicOTF' not found.\n",
      "findfont: Font family 'NanumGothicOTF' not found.\n",
      "findfont: Font family 'NanumGothicOTF' not found.\n",
      "findfont: Font family 'NanumGothicOTF' not found.\n",
      "findfont: Font family 'NanumGothicOTF' not found.\n",
      "findfont: Font family 'NanumGothicOTF' not found.\n",
      "findfont: Font family 'NanumGothicOTF' not found.\n",
      "findfont: Font family 'NanumGothicOTF' not found.\n",
      "findfont: Font family 'NanumGothicOTF' not found.\n",
      "findfont: Font family 'NanumGothicOTF' not found.\n",
      "findfont: Font family 'NanumGothicOTF' not found.\n",
      "findfont: Font family 'NanumGothicOTF' not found.\n",
      "findfont: Font family 'NanumGothicOTF' not found.\n",
      "findfont: Font family 'NanumGothicOTF' not found.\n",
      "findfont: Font family 'NanumGothicOTF' not found.\n",
      "findfont: Font family 'NanumGothicOTF' not found.\n",
      "findfont: Font family 'NanumGothicOTF' not found.\n",
      "findfont: Font family 'NanumGothicOTF' not found.\n",
      "findfont: Font family 'NanumGothicOTF' not found.\n",
      "findfont: Font family 'NanumGothicOTF' not found.\n",
      "findfont: Font family 'NanumGothicOTF' not found.\n",
      "findfont: Font family 'NanumGothicOTF' not found.\n",
      "findfont: Font family 'NanumGothicOTF' not found.\n",
      "findfont: Font family 'NanumGothicOTF' not found.\n",
      "findfont: Font family 'NanumGothicOTF' not found.\n",
      "findfont: Font family 'NanumGothicOTF' not found.\n",
      "findfont: Font family 'NanumGothicOTF' not found.\n",
      "findfont: Font family 'NanumGothicOTF' not found.\n",
      "findfont: Font family 'NanumGothicOTF' not found.\n",
      "findfont: Font family 'NanumGothicOTF' not found.\n"
     ]
    },
    {
     "data": {
      "image/png": "[encoded data removed]",
      "text/plain": [
       "<Figure size 2000x1600 with 1 Axes>"
      ]
     },
     "metadata": {},
     "output_type": "display_data"
    }
   ],
   "source": [
    "picher['연봉(2018)'].hist(bins=100) # 2018년 연봉 분포를 출력합니다."
   ]
  },
  {
   "cell_type": "code",
   "execution_count": 55,
   "metadata": {},
   "outputs": [
    {
     "data": {
      "text/plain": [
       "<Axes: >"
      ]
     },
     "execution_count": 55,
     "metadata": {},
     "output_type": "execute_result"
    },
    {
     "name": "stderr",
     "output_type": "stream",
     "text": [
      "findfont: Font family 'NanumGothicOTF' not found.\n",
      "findfont: Font family 'NanumGothicOTF' not found.\n",
      "findfont: Font family 'NanumGothicOTF' not found.\n",
      "findfont: Font family 'NanumGothicOTF' not found.\n",
      "findfont: Font family 'NanumGothicOTF' not found.\n",
      "findfont: Font family 'NanumGothicOTF' not found.\n",
      "findfont: Font family 'NanumGothicOTF' not found.\n",
      "findfont: Font family 'NanumGothicOTF' not found.\n",
      "findfont: Font family 'NanumGothicOTF' not found.\n",
      "findfont: Font family 'NanumGothicOTF' not found.\n",
      "findfont: Font family 'NanumGothicOTF' not found.\n",
      "findfont: Font family 'NanumGothicOTF' not found.\n",
      "findfont: Font family 'NanumGothicOTF' not found.\n",
      "findfont: Font family 'NanumGothicOTF' not found.\n",
      "findfont: Font family 'NanumGothicOTF' not found.\n",
      "findfont: Font family 'NanumGothicOTF' not found.\n",
      "findfont: Font family 'NanumGothicOTF' not found.\n",
      "findfont: Font family 'NanumGothicOTF' not found.\n",
      "findfont: Font family 'NanumGothicOTF' not found.\n",
      "findfont: Font family 'NanumGothicOTF' not found.\n",
      "findfont: Font family 'NanumGothicOTF' not found.\n",
      "findfont: Font family 'NanumGothicOTF' not found.\n",
      "findfont: Font family 'NanumGothicOTF' not found.\n",
      "findfont: Font family 'NanumGothicOTF' not found.\n",
      "findfont: Font family 'NanumGothicOTF' not found.\n",
      "findfont: Font family 'NanumGothicOTF' not found.\n"
     ]
    },
    {
     "data": {
      "image/png": "[encoded data removed]",
      "text/plain": [
       "<Figure size 2000x1600 with 1 Axes>"
      ]
     },
     "metadata": {},
     "output_type": "display_data"
    }
   ],
   "source": [
    "picher.boxplot(column=['연봉(2018)']) # 연봉의 Boxplot을 출력합니다."
   ]
  },
  {
   "cell_type": "markdown",
   "metadata": {},
   "source": [
    "-----"
   ]
  },
  {
   "cell_type": "markdown",
   "metadata": {},
   "source": [
    "### [회귀 분석에 사용할 피처 살펴보기]"
   ]
  },
  {
   "cell_type": "code",
   "execution_count": 56,
   "metadata": {},
   "outputs": [],
   "source": [
    "picher_features_df = picher[['승', '패', '세', '홀드', '블론', '경기', '선발', '이닝', '삼진/9',\n",
    "       '볼넷/9', '홈런/9', 'BABIP', 'LOB%', 'ERA', 'RA9-WAR', 'FIP', 'kFIP', 'WAR',\n",
    "       '연봉(2018)', '연봉(2017)']]"
   ]
  },
  {
   "cell_type": "code",
   "execution_count": 57,
   "metadata": {},
   "outputs": [],
   "source": [
    "# 피처 각각에 대한 histogram을 출력합니다.\n",
    "def plot_hist_each_column(df):\n",
    "    plt.rcParams['figure.figsize'] = [20, 16]\n",
    "    fig = plt.figure(1)\n",
    "    \n",
    "    # df의 column 갯수 만큼의 subplot을 출력합니다.\n",
    "    for i in range(len(df.columns)):\n",
    "        ax = fig.add_subplot(5, 5, i+1)\n",
    "        plt.hist(df[df.columns[i]], bins=50)\n",
    "        ax.set_title(df.columns[i])\n",
    "    plt.show()"
   ]
  },
  {
   "cell_type": "code",
   "execution_count": 58,
   "metadata": {},
   "outputs": [
    {
     "name": "stderr",
     "output_type": "stream",
     "text": [
      "findfont: Font family 'NanumGothicOTF' not found.\n",
      "findfont: Font family 'NanumGothicOTF' not found.\n",
      "findfont: Font family 'NanumGothicOTF' not found.\n",
      "findfont: Font family 'NanumGothicOTF' not found.\n",
      "findfont: Font family 'NanumGothicOTF' not found.\n",
      "findfont: Font family 'NanumGothicOTF' not found.\n",
      "findfont: Font family 'NanumGothicOTF' not found.\n",
      "findfont: Font family 'NanumGothicOTF' not found.\n",
      "findfont: Font family 'NanumGothicOTF' not found.\n",
      "findfont: Font family 'NanumGothicOTF' not found.\n",
      "findfont: Font family 'NanumGothicOTF' not found.\n",
      "findfont: Font family 'NanumGothicOTF' not found.\n",
      "findfont: Font family 'NanumGothicOTF' not found.\n",
      "findfont: Font family 'NanumGothicOTF' not found.\n",
      "findfont: Font family 'NanumGothicOTF' not found.\n",
      "findfont: Font family 'NanumGothicOTF' not found.\n",
      "findfont: Font family 'NanumGothicOTF' not found.\n",
      "findfont: Font family 'NanumGothicOTF' not found.\n",
      "findfont: Font family 'NanumGothicOTF' not found.\n",
      "findfont: Font family 'NanumGothicOTF' not found.\n",
      "findfont: Font family 'NanumGothicOTF' not found.\n",
      "findfont: Font family 'NanumGothicOTF' not found.\n",
      "findfont: Font family 'NanumGothicOTF' not found.\n",
      "findfont: Font family 'NanumGothicOTF' not found.\n",
      "findfont: Font family 'NanumGothicOTF' not found.\n",
      "findfont: Font family 'NanumGothicOTF' not found.\n",
      "findfont: Font family 'NanumGothicOTF' not found.\n",
      "findfont: Font family 'NanumGothicOTF' not found.\n",
      "findfont: Font family 'NanumGothicOTF' not found.\n",
      "findfont: Font family 'NanumGothicOTF' not found.\n",
      "findfont: Font family 'NanumGothicOTF' not found.\n",
      "findfont: Font family 'NanumGothicOTF' not found.\n",
      "findfont: Font family 'NanumGothicOTF' not found.\n",
      "findfont: Font family 'NanumGothicOTF' not found.\n",
      "findfont: Font family 'NanumGothicOTF' not found.\n",
      "findfont: Font family 'NanumGothicOTF' not found.\n",
      "findfont: Font family 'NanumGothicOTF' not found.\n",
      "findfont: Font family 'NanumGothicOTF' not found.\n",
      "findfont: Font family 'NanumGothicOTF' not found.\n",
      "findfont: Font family 'NanumGothicOTF' not found.\n",
      "findfont: Font family 'NanumGothicOTF' not found.\n",
      "findfont: Font family 'NanumGothicOTF' not found.\n",
      "findfont: Font family 'NanumGothicOTF' not found.\n",
      "findfont: Font family 'NanumGothicOTF' not found.\n",
      "findfont: Font family 'NanumGothicOTF' not found.\n",
      "findfont: Font family 'NanumGothicOTF' not found.\n",
      "findfont: Font family 'NanumGothicOTF' not found.\n",
      "findfont: Font family 'NanumGothicOTF' not found.\n",
      "findfont: Font family 'NanumGothicOTF' not found.\n",
      "findfont: Font family 'NanumGothicOTF' not found.\n",
      "findfont: Font family 'NanumGothicOTF' not found.\n",
      "findfont: Font family 'NanumGothicOTF' not found.\n",
      "findfont: Font family 'NanumGothicOTF' not found.\n",
      "findfont: Font family 'NanumGothicOTF' not found.\n",
      "findfont: Font family 'NanumGothicOTF' not found.\n",
      "findfont: Font family 'NanumGothicOTF' not found.\n",
      "findfont: Font family 'NanumGothicOTF' not found.\n",
      "findfont: Font family 'NanumGothicOTF' not found.\n",
      "findfont: Font family 'NanumGothicOTF' not found.\n",
      "findfont: Font family 'NanumGothicOTF' not found.\n",
      "findfont: Font family 'NanumGothicOTF' not found.\n",
      "findfont: Font family 'NanumGothicOTF' not found.\n",
      "findfont: Font family 'NanumGothicOTF' not found.\n",
      "findfont: Font family 'NanumGothicOTF' not found.\n",
      "findfont: Font family 'NanumGothicOTF' not found.\n",
      "findfont: Font family 'NanumGothicOTF' not found.\n",
      "findfont: Font family 'NanumGothicOTF' not found.\n",
      "findfont: Font family 'NanumGothicOTF' not found.\n",
      "findfont: Font family 'NanumGothicOTF' not found.\n",
      "findfont: Font family 'NanumGothicOTF' not found.\n",
      "findfont: Font family 'NanumGothicOTF' not found.\n",
      "findfont: Font family 'NanumGothicOTF' not found.\n",
      "findfont: Font family 'NanumGothicOTF' not found.\n",
      "findfont: Font family 'NanumGothicOTF' not found.\n",
      "findfont: Font family 'NanumGothicOTF' not found.\n",
      "findfont: Font family 'NanumGothicOTF' not found.\n",
      "findfont: Font family 'NanumGothicOTF' not found.\n",
      "findfont: Font family 'NanumGothicOTF' not found.\n",
      "findfont: Font family 'NanumGothicOTF' not found.\n",
      "findfont: Font family 'NanumGothicOTF' not found.\n",
      "findfont: Font family 'NanumGothicOTF' not found.\n",
      "findfont: Font family 'NanumGothicOTF' not found.\n",
      "findfont: Font family 'NanumGothicOTF' not found.\n",
      "findfont: Font family 'NanumGothicOTF' not found.\n",
      "findfont: Font family 'NanumGothicOTF' not found.\n",
      "findfont: Font family 'NanumGothicOTF' not found.\n",
      "findfont: Font family 'NanumGothicOTF' not found.\n",
      "findfont: Font family 'NanumGothicOTF' not found.\n",
      "findfont: Font family 'NanumGothicOTF' not found.\n",
      "findfont: Font family 'NanumGothicOTF' not found.\n",
      "findfont: Font family 'NanumGothicOTF' not found.\n",
      "findfont: Font family 'NanumGothicOTF' not found.\n",
      "findfont: Font family 'NanumGothicOTF' not found.\n",
      "findfont: Font family 'NanumGothicOTF' not found.\n",
      "findfont: Font family 'NanumGothicOTF' not found.\n",
      "findfont: Font family 'NanumGothicOTF' not found.\n",
      "findfont: Font family 'NanumGothicOTF' not found.\n",
      "findfont: Font family 'NanumGothicOTF' not found.\n",
      "findfont: Font family 'NanumGothicOTF' not found.\n",
      "findfont: Font family 'NanumGothicOTF' not found.\n",
      "findfont: Font family 'NanumGothicOTF' not found.\n",
      "findfont: Font family 'NanumGothicOTF' not found.\n",
      "findfont: Font family 'NanumGothicOTF' not found.\n",
      "findfont: Font family 'NanumGothicOTF' not found.\n",
      "findfont: Font family 'NanumGothicOTF' not found.\n",
      "findfont: Font family 'NanumGothicOTF' not found.\n",
      "findfont: Font family 'NanumGothicOTF' not found.\n",
      "findfont: Font family 'NanumGothicOTF' not found.\n",
      "findfont: Font family 'NanumGothicOTF' not found.\n",
      "findfont: Font family 'NanumGothicOTF' not found.\n",
      "findfont: Font family 'NanumGothicOTF' not found.\n",
      "findfont: Font family 'NanumGothicOTF' not found.\n",
      "findfont: Font family 'NanumGothicOTF' not found.\n",
      "findfont: Font family 'NanumGothicOTF' not found.\n",
      "findfont: Font family 'NanumGothicOTF' not found.\n",
      "findfont: Font family 'NanumGothicOTF' not found.\n",
      "findfont: Font family 'NanumGothicOTF' not found.\n",
      "findfont: Font family 'NanumGothicOTF' not found.\n",
      "findfont: Font family 'NanumGothicOTF' not found.\n",
      "findfont: Font family 'NanumGothicOTF' not found.\n",
      "findfont: Font family 'NanumGothicOTF' not found.\n",
      "findfont: Font family 'NanumGothicOTF' not found.\n",
      "findfont: Font family 'NanumGothicOTF' not found.\n",
      "findfont: Font family 'NanumGothicOTF' not found.\n",
      "findfont: Font family 'NanumGothicOTF' not found.\n",
      "findfont: Font family 'NanumGothicOTF' not found.\n",
      "findfont: Font family 'NanumGothicOTF' not found.\n",
      "findfont: Font family 'NanumGothicOTF' not found.\n",
      "findfont: Font family 'NanumGothicOTF' not found.\n",
      "findfont: Font family 'NanumGothicOTF' not found.\n",
      "findfont: Font family 'NanumGothicOTF' not found.\n",
      "findfont: Font family 'NanumGothicOTF' not found.\n",
      "findfont: Font family 'NanumGothicOTF' not found.\n",
      "findfont: Font family 'NanumGothicOTF' not found.\n",
      "findfont: Font family 'NanumGothicOTF' not found.\n",
      "findfont: Font family 'NanumGothicOTF' not found.\n",
      "findfont: Font family 'NanumGothicOTF' not found.\n",
      "findfont: Font family 'NanumGothicOTF' not found.\n",
      "findfont: Font family 'NanumGothicOTF' not found.\n",
      "findfont: Font family 'NanumGothicOTF' not found.\n",
      "findfont: Font family 'NanumGothicOTF' not found.\n",
      "findfont: Font family 'NanumGothicOTF' not found.\n",
      "findfont: Font family 'NanumGothicOTF' not found.\n",
      "findfont: Font family 'NanumGothicOTF' not found.\n",
      "findfont: Font family 'NanumGothicOTF' not found.\n",
      "findfont: Font family 'NanumGothicOTF' not found.\n",
      "findfont: Font family 'NanumGothicOTF' not found.\n",
      "findfont: Font family 'NanumGothicOTF' not found.\n",
      "findfont: Font family 'NanumGothicOTF' not found.\n",
      "findfont: Font family 'NanumGothicOTF' not found.\n",
      "findfont: Font family 'NanumGothicOTF' not found.\n",
      "findfont: Font family 'NanumGothicOTF' not found.\n",
      "findfont: Font family 'NanumGothicOTF' not found.\n",
      "findfont: Font family 'NanumGothicOTF' not found.\n",
      "findfont: Font family 'NanumGothicOTF' not found.\n",
      "findfont: Font family 'NanumGothicOTF' not found.\n",
      "findfont: Font family 'NanumGothicOTF' not found.\n",
      "findfont: Font family 'NanumGothicOTF' not found.\n",
      "findfont: Font family 'NanumGothicOTF' not found.\n",
      "findfont: Font family 'NanumGothicOTF' not found.\n",
      "findfont: Font family 'NanumGothicOTF' not found.\n",
      "findfont: Font family 'NanumGothicOTF' not found.\n",
      "findfont: Font family 'NanumGothicOTF' not found.\n",
      "findfont: Font family 'NanumGothicOTF' not found.\n"
     ]
    },
    {
     "name": "stderr",
     "output_type": "stream",
     "text": [
      "findfont: Font family 'NanumGothicOTF' not found.\n",
      "findfont: Font family 'NanumGothicOTF' not found.\n",
      "findfont: Font family 'NanumGothicOTF' not found.\n",
      "findfont: Font family 'NanumGothicOTF' not found.\n",
      "findfont: Font family 'NanumGothicOTF' not found.\n",
      "findfont: Font family 'NanumGothicOTF' not found.\n",
      "findfont: Font family 'NanumGothicOTF' not found.\n",
      "findfont: Font family 'NanumGothicOTF' not found.\n",
      "findfont: Font family 'NanumGothicOTF' not found.\n",
      "findfont: Font family 'NanumGothicOTF' not found.\n",
      "findfont: Font family 'NanumGothicOTF' not found.\n",
      "findfont: Font family 'NanumGothicOTF' not found.\n",
      "findfont: Font family 'NanumGothicOTF' not found.\n",
      "findfont: Font family 'NanumGothicOTF' not found.\n",
      "findfont: Font family 'NanumGothicOTF' not found.\n",
      "findfont: Font family 'NanumGothicOTF' not found.\n",
      "findfont: Font family 'NanumGothicOTF' not found.\n",
      "findfont: Font family 'NanumGothicOTF' not found.\n",
      "findfont: Font family 'NanumGothicOTF' not found.\n",
      "findfont: Font family 'NanumGothicOTF' not found.\n",
      "findfont: Font family 'NanumGothicOTF' not found.\n",
      "findfont: Font family 'NanumGothicOTF' not found.\n",
      "findfont: Font family 'NanumGothicOTF' not found.\n",
      "findfont: Font family 'NanumGothicOTF' not found.\n",
      "findfont: Font family 'NanumGothicOTF' not found.\n",
      "findfont: Font family 'NanumGothicOTF' not found.\n",
      "findfont: Font family 'NanumGothicOTF' not found.\n",
      "findfont: Font family 'NanumGothicOTF' not found.\n",
      "findfont: Font family 'NanumGothicOTF' not found.\n",
      "findfont: Font family 'NanumGothicOTF' not found.\n",
      "findfont: Font family 'NanumGothicOTF' not found.\n",
      "findfont: Font family 'NanumGothicOTF' not found.\n",
      "findfont: Font family 'NanumGothicOTF' not found.\n",
      "findfont: Font family 'NanumGothicOTF' not found.\n",
      "findfont: Font family 'NanumGothicOTF' not found.\n",
      "findfont: Font family 'NanumGothicOTF' not found.\n",
      "findfont: Font family 'NanumGothicOTF' not found.\n",
      "findfont: Font family 'NanumGothicOTF' not found.\n",
      "findfont: Font family 'NanumGothicOTF' not found.\n",
      "findfont: Font family 'NanumGothicOTF' not found.\n",
      "findfont: Font family 'NanumGothicOTF' not found.\n",
      "findfont: Font family 'NanumGothicOTF' not found.\n",
      "findfont: Font family 'NanumGothicOTF' not found.\n",
      "findfont: Font family 'NanumGothicOTF' not found.\n",
      "findfont: Font family 'NanumGothicOTF' not found.\n",
      "findfont: Font family 'NanumGothicOTF' not found.\n",
      "findfont: Font family 'NanumGothicOTF' not found.\n",
      "findfont: Font family 'NanumGothicOTF' not found.\n",
      "findfont: Font family 'NanumGothicOTF' not found.\n",
      "findfont: Font family 'NanumGothicOTF' not found.\n",
      "findfont: Font family 'NanumGothicOTF' not found.\n",
      "findfont: Font family 'NanumGothicOTF' not found.\n",
      "findfont: Font family 'NanumGothicOTF' not found.\n",
      "findfont: Font family 'NanumGothicOTF' not found.\n",
      "findfont: Font family 'NanumGothicOTF' not found.\n",
      "findfont: Font family 'NanumGothicOTF' not found.\n",
      "findfont: Font family 'NanumGothicOTF' not found.\n",
      "findfont: Font family 'NanumGothicOTF' not found.\n",
      "findfont: Font family 'NanumGothicOTF' not found.\n",
      "findfont: Font family 'NanumGothicOTF' not found.\n",
      "findfont: Font family 'NanumGothicOTF' not found.\n",
      "findfont: Font family 'NanumGothicOTF' not found.\n",
      "findfont: Font family 'NanumGothicOTF' not found.\n",
      "findfont: Font family 'NanumGothicOTF' not found.\n",
      "findfont: Font family 'NanumGothicOTF' not found.\n",
      "findfont: Font family 'NanumGothicOTF' not found.\n",
      "findfont: Font family 'NanumGothicOTF' not found.\n",
      "findfont: Font family 'NanumGothicOTF' not found.\n",
      "findfont: Font family 'NanumGothicOTF' not found.\n",
      "findfont: Font family 'NanumGothicOTF' not found.\n",
      "findfont: Font family 'NanumGothicOTF' not found.\n",
      "findfont: Font family 'NanumGothicOTF' not found.\n",
      "findfont: Font family 'NanumGothicOTF' not found.\n",
      "findfont: Font family 'NanumGothicOTF' not found.\n",
      "findfont: Font family 'NanumGothicOTF' not found.\n",
      "findfont: Font family 'NanumGothicOTF' not found.\n",
      "findfont: Font family 'NanumGothicOTF' not found.\n",
      "findfont: Font family 'NanumGothicOTF' not found.\n",
      "findfont: Font family 'NanumGothicOTF' not found.\n",
      "findfont: Font family 'NanumGothicOTF' not found.\n",
      "findfont: Font family 'NanumGothicOTF' not found.\n",
      "findfont: Font family 'NanumGothicOTF' not found.\n",
      "findfont: Font family 'NanumGothicOTF' not found.\n",
      "findfont: Font family 'NanumGothicOTF' not found.\n",
      "findfont: Font family 'NanumGothicOTF' not found.\n",
      "findfont: Font family 'NanumGothicOTF' not found.\n",
      "findfont: Font family 'NanumGothicOTF' not found.\n",
      "findfont: Font family 'NanumGothicOTF' not found.\n",
      "findfont: Font family 'NanumGothicOTF' not found.\n",
      "findfont: Font family 'NanumGothicOTF' not found.\n",
      "findfont: Font family 'NanumGothicOTF' not found.\n",
      "findfont: Font family 'NanumGothicOTF' not found.\n",
      "findfont: Font family 'NanumGothicOTF' not found.\n",
      "findfont: Font family 'NanumGothicOTF' not found.\n",
      "findfont: Font family 'NanumGothicOTF' not found.\n",
      "findfont: Font family 'NanumGothicOTF' not found.\n",
      "findfont: Font family 'NanumGothicOTF' not found.\n",
      "findfont: Font family 'NanumGothicOTF' not found.\n",
      "findfont: Font family 'NanumGothicOTF' not found.\n",
      "findfont: Font family 'NanumGothicOTF' not found.\n",
      "findfont: Font family 'NanumGothicOTF' not found.\n",
      "findfont: Font family 'NanumGothicOTF' not found.\n",
      "findfont: Font family 'NanumGothicOTF' not found.\n",
      "findfont: Font family 'NanumGothicOTF' not found.\n",
      "findfont: Font family 'NanumGothicOTF' not found.\n",
      "findfont: Font family 'NanumGothicOTF' not found.\n",
      "findfont: Font family 'NanumGothicOTF' not found.\n",
      "findfont: Font family 'NanumGothicOTF' not found.\n",
      "findfont: Font family 'NanumGothicOTF' not found.\n",
      "findfont: Font family 'NanumGothicOTF' not found.\n",
      "findfont: Font family 'NanumGothicOTF' not found.\n",
      "findfont: Font family 'NanumGothicOTF' not found.\n",
      "findfont: Font family 'NanumGothicOTF' not found.\n",
      "findfont: Font family 'NanumGothicOTF' not found.\n",
      "findfont: Font family 'NanumGothicOTF' not found.\n",
      "findfont: Font family 'NanumGothicOTF' not found.\n",
      "findfont: Font family 'NanumGothicOTF' not found.\n",
      "findfont: Font family 'NanumGothicOTF' not found.\n",
      "findfont: Font family 'NanumGothicOTF' not found.\n",
      "findfont: Font family 'NanumGothicOTF' not found.\n",
      "findfont: Font family 'NanumGothicOTF' not found.\n",
      "findfont: Font family 'NanumGothicOTF' not found.\n",
      "findfont: Font family 'NanumGothicOTF' not found.\n",
      "findfont: Font family 'NanumGothicOTF' not found.\n",
      "findfont: Font family 'NanumGothicOTF' not found.\n",
      "findfont: Font family 'NanumGothicOTF' not found.\n",
      "findfont: Font family 'NanumGothicOTF' not found.\n",
      "findfont: Font family 'NanumGothicOTF' not found.\n",
      "findfont: Font family 'NanumGothicOTF' not found.\n",
      "findfont: Font family 'NanumGothicOTF' not found.\n",
      "findfont: Font family 'NanumGothicOTF' not found.\n",
      "findfont: Font family 'NanumGothicOTF' not found.\n",
      "findfont: Font family 'NanumGothicOTF' not found.\n",
      "findfont: Font family 'NanumGothicOTF' not found.\n",
      "findfont: Font family 'NanumGothicOTF' not found.\n",
      "findfont: Font family 'NanumGothicOTF' not found.\n",
      "findfont: Font family 'NanumGothicOTF' not found.\n",
      "findfont: Font family 'NanumGothicOTF' not found.\n",
      "findfont: Font family 'NanumGothicOTF' not found.\n",
      "findfont: Font family 'NanumGothicOTF' not found.\n",
      "findfont: Font family 'NanumGothicOTF' not found.\n",
      "findfont: Font family 'NanumGothicOTF' not found.\n",
      "findfont: Font family 'NanumGothicOTF' not found.\n",
      "findfont: Font family 'NanumGothicOTF' not found.\n",
      "findfont: Font family 'NanumGothicOTF' not found.\n",
      "findfont: Font family 'NanumGothicOTF' not found.\n",
      "findfont: Font family 'NanumGothicOTF' not found.\n",
      "findfont: Font family 'NanumGothicOTF' not found.\n",
      "findfont: Font family 'NanumGothicOTF' not found.\n",
      "findfont: Font family 'NanumGothicOTF' not found.\n",
      "findfont: Font family 'NanumGothicOTF' not found.\n",
      "findfont: Font family 'NanumGothicOTF' not found.\n",
      "findfont: Font family 'NanumGothicOTF' not found.\n",
      "findfont: Font family 'NanumGothicOTF' not found.\n",
      "findfont: Font family 'NanumGothicOTF' not found.\n",
      "findfont: Font family 'NanumGothicOTF' not found.\n",
      "findfont: Font family 'NanumGothicOTF' not found.\n",
      "findfont: Font family 'NanumGothicOTF' not found.\n",
      "findfont: Font family 'NanumGothicOTF' not found.\n",
      "findfont: Font family 'NanumGothicOTF' not found.\n",
      "findfont: Font family 'NanumGothicOTF' not found.\n",
      "findfont: Font family 'NanumGothicOTF' not found.\n",
      "findfont: Font family 'NanumGothicOTF' not found.\n",
      "findfont: Font family 'NanumGothicOTF' not found.\n"
     ]
    },
    {
     "name": "stderr",
     "output_type": "stream",
     "text": [
      "findfont: Font family 'NanumGothicOTF' not found.\n"
     ]
    },
    {
     "data": {
      "image/png": "[encoded data removed]",
      "text/plain": [
       "<Figure size 2000x1600 with 20 Axes>"
      ]
     },
     "metadata": {},
     "output_type": "display_data"
    }
   ],
   "source": [
    "plot_hist_each_column(picher_features_df)"
   ]
  },
  {
   "cell_type": "markdown",
   "metadata": {},
   "source": [
    "-----"
   ]
  },
  {
   "cell_type": "markdown",
   "metadata": {},
   "source": [
    "# <Step2. 예측> : 투수의 연봉 예측하기"
   ]
  },
  {
   "cell_type": "markdown",
   "metadata": {},
   "source": [
    "### [피처들의 단위 맞춰주기 : 피처 스케일링]"
   ]
  },
  {
   "cell_type": "code",
   "execution_count": 59,
   "metadata": {},
   "outputs": [],
   "source": [
    "# pandas 형태로 정의된 데이터를 출력할 때, scientific-notation이 아닌 float 모양으로 출력되게 해줍니다.\n",
    "pd.options.mode.chained_assignment = None"
   ]
  },
  {
   "cell_type": "code",
   "execution_count": 60,
   "metadata": {},
   "outputs": [],
   "source": [
    "# 피처 각각에 대한 scaling을 수행하는 함수를 정의합니다.\n",
    "def standard_scaling(df, scale_columns):\n",
    "    for col in scale_columns:\n",
    "        series_mean = df[col].mean()\n",
    "        series_std = df[col].std()\n",
    "        df[col] = df[col].apply(lambda x: (x-series_mean)/series_std)\n",
    "    return df"
   ]
  },
  {
   "cell_type": "code",
   "execution_count": 61,
   "metadata": {},
   "outputs": [],
   "source": [
    "# 피처 각각에 대한 scaling을 수행합니다.\n",
    "scale_columns = ['승', '패', '세', '홀드', '블론', '경기', '선발', '이닝', '삼진/9',\n",
    "       '볼넷/9', '홈런/9', 'BABIP', 'LOB%', 'ERA', 'RA9-WAR', 'FIP', 'kFIP', 'WAR', '연봉(2017)']\n",
    "picher_df = standard_scaling(picher, scale_columns)"
   ]
  },
  {
   "cell_type": "code",
   "execution_count": 62,
   "metadata": {},
   "outputs": [
    {
     "data": {
      "text/html": [
       "<div>\n",
       "<style scoped>\n",
       "    .dataframe tbody tr th:only-of-type {\n",
       "        vertical-align: middle;\n",
       "    }\n",
       "\n",
       "    .dataframe tbody tr th {\n",
       "        vertical-align: top;\n",
       "    }\n",
       "\n",
       "    .dataframe thead th {\n",
       "        text-align: right;\n",
       "    }\n",
       "</style>\n",
       "<table border=\"1\" class=\"dataframe\">\n",
       "  <thead>\n",
       "    <tr style=\"text-align: right;\">\n",
       "      <th></th>\n",
       "      <th>선수명</th>\n",
       "      <th>팀명</th>\n",
       "      <th>승</th>\n",
       "      <th>패</th>\n",
       "      <th>세</th>\n",
       "      <th>홀드</th>\n",
       "      <th>블론</th>\n",
       "      <th>경기</th>\n",
       "      <th>선발</th>\n",
       "      <th>이닝</th>\n",
       "      <th>...</th>\n",
       "      <th>홈런/9</th>\n",
       "      <th>BABIP</th>\n",
       "      <th>LOB%</th>\n",
       "      <th>ERA</th>\n",
       "      <th>RA9-WAR</th>\n",
       "      <th>FIP</th>\n",
       "      <th>kFIP</th>\n",
       "      <th>WAR</th>\n",
       "      <th>y</th>\n",
       "      <th>연봉(2017)</th>\n",
       "    </tr>\n",
       "  </thead>\n",
       "  <tbody>\n",
       "    <tr>\n",
       "      <th>0</th>\n",
       "      <td>켈리</td>\n",
       "      <td>SK</td>\n",
       "      <td>3.313623</td>\n",
       "      <td>1.227145</td>\n",
       "      <td>-0.306452</td>\n",
       "      <td>-0.585705</td>\n",
       "      <td>-0.543592</td>\n",
       "      <td>0.059433</td>\n",
       "      <td>2.452068</td>\n",
       "      <td>2.645175</td>\n",
       "      <td>...</td>\n",
       "      <td>-0.442382</td>\n",
       "      <td>0.016783</td>\n",
       "      <td>0.446615</td>\n",
       "      <td>-0.587056</td>\n",
       "      <td>3.174630</td>\n",
       "      <td>-0.971030</td>\n",
       "      <td>-1.058125</td>\n",
       "      <td>4.503142</td>\n",
       "      <td>140000</td>\n",
       "      <td>2.734705</td>\n",
       "    </tr>\n",
       "    <tr>\n",
       "      <th>1</th>\n",
       "      <td>소사</td>\n",
       "      <td>LG</td>\n",
       "      <td>2.019505</td>\n",
       "      <td>2.504721</td>\n",
       "      <td>-0.098502</td>\n",
       "      <td>-0.585705</td>\n",
       "      <td>-0.543592</td>\n",
       "      <td>0.059433</td>\n",
       "      <td>2.349505</td>\n",
       "      <td>2.547755</td>\n",
       "      <td>...</td>\n",
       "      <td>-0.668521</td>\n",
       "      <td>-0.241686</td>\n",
       "      <td>-0.122764</td>\n",
       "      <td>-0.519855</td>\n",
       "      <td>3.114968</td>\n",
       "      <td>-1.061888</td>\n",
       "      <td>-1.073265</td>\n",
       "      <td>4.094734</td>\n",
       "      <td>120000</td>\n",
       "      <td>1.337303</td>\n",
       "    </tr>\n",
       "    <tr>\n",
       "      <th>2</th>\n",
       "      <td>양현종</td>\n",
       "      <td>KIA</td>\n",
       "      <td>4.348918</td>\n",
       "      <td>0.907751</td>\n",
       "      <td>-0.306452</td>\n",
       "      <td>-0.585705</td>\n",
       "      <td>-0.543592</td>\n",
       "      <td>0.111056</td>\n",
       "      <td>2.554632</td>\n",
       "      <td>2.706808</td>\n",
       "      <td>...</td>\n",
       "      <td>-0.412886</td>\n",
       "      <td>-0.095595</td>\n",
       "      <td>0.308584</td>\n",
       "      <td>-0.625456</td>\n",
       "      <td>2.973948</td>\n",
       "      <td>-0.837415</td>\n",
       "      <td>-0.866361</td>\n",
       "      <td>3.761956</td>\n",
       "      <td>230000</td>\n",
       "      <td>5.329881</td>\n",
       "    </tr>\n",
       "    <tr>\n",
       "      <th>3</th>\n",
       "      <td>차우찬</td>\n",
       "      <td>LG</td>\n",
       "      <td>1.760682</td>\n",
       "      <td>1.227145</td>\n",
       "      <td>-0.306452</td>\n",
       "      <td>-0.585705</td>\n",
       "      <td>-0.543592</td>\n",
       "      <td>-0.043811</td>\n",
       "      <td>2.246942</td>\n",
       "      <td>2.350927</td>\n",
       "      <td>...</td>\n",
       "      <td>-0.186746</td>\n",
       "      <td>-0.477680</td>\n",
       "      <td>0.558765</td>\n",
       "      <td>-0.627856</td>\n",
       "      <td>2.740722</td>\n",
       "      <td>-0.698455</td>\n",
       "      <td>-0.760385</td>\n",
       "      <td>2.998081</td>\n",
       "      <td>100000</td>\n",
       "      <td>3.333592</td>\n",
       "    </tr>\n",
       "    <tr>\n",
       "      <th>4</th>\n",
       "      <td>레일리</td>\n",
       "      <td>롯데</td>\n",
       "      <td>2.537153</td>\n",
       "      <td>1.227145</td>\n",
       "      <td>-0.306452</td>\n",
       "      <td>-0.585705</td>\n",
       "      <td>-0.543592</td>\n",
       "      <td>0.059433</td>\n",
       "      <td>2.452068</td>\n",
       "      <td>2.587518</td>\n",
       "      <td>...</td>\n",
       "      <td>-0.294900</td>\n",
       "      <td>-0.196735</td>\n",
       "      <td>0.481122</td>\n",
       "      <td>-0.539055</td>\n",
       "      <td>2.751570</td>\n",
       "      <td>-0.612941</td>\n",
       "      <td>-0.619085</td>\n",
       "      <td>2.809003</td>\n",
       "      <td>111000</td>\n",
       "      <td>2.734705</td>\n",
       "    </tr>\n",
       "  </tbody>\n",
       "</table>\n",
       "<p>5 rows × 22 columns</p>\n",
       "</div>"
      ],
      "text/plain": [
       "   선수명   팀명         승         패         세        홀드        블론        경기  \\\n",
       "0   켈리   SK  3.313623  1.227145 -0.306452 -0.585705 -0.543592  0.059433   \n",
       "1   소사   LG  2.019505  2.504721 -0.098502 -0.585705 -0.543592  0.059433   \n",
       "2  양현종  KIA  4.348918  0.907751 -0.306452 -0.585705 -0.543592  0.111056   \n",
       "3  차우찬   LG  1.760682  1.227145 -0.306452 -0.585705 -0.543592 -0.043811   \n",
       "4  레일리   롯데  2.537153  1.227145 -0.306452 -0.585705 -0.543592  0.059433   \n",
       "\n",
       "         선발        이닝  ...      홈런/9     BABIP      LOB%       ERA   RA9-WAR  \\\n",
       "0  2.452068  2.645175  ... -0.442382  0.016783  0.446615 -0.587056  3.174630   \n",
       "1  2.349505  2.547755  ... -0.668521 -0.241686 -0.122764 -0.519855  3.114968   \n",
       "2  2.554632  2.706808  ... -0.412886 -0.095595  0.308584 -0.625456  2.973948   \n",
       "3  2.246942  2.350927  ... -0.186746 -0.477680  0.558765 -0.627856  2.740722   \n",
       "4  2.452068  2.587518  ... -0.294900 -0.196735  0.481122 -0.539055  2.751570   \n",
       "\n",
       "        FIP      kFIP       WAR       y  연봉(2017)  \n",
       "0 -0.971030 -1.058125  4.503142  140000  2.734705  \n",
       "1 -1.061888 -1.073265  4.094734  120000  1.337303  \n",
       "2 -0.837415 -0.866361  3.761956  230000  5.329881  \n",
       "3 -0.698455 -0.760385  2.998081  100000  3.333592  \n",
       "4 -0.612941 -0.619085  2.809003  111000  2.734705  \n",
       "\n",
       "[5 rows x 22 columns]"
      ]
     },
     "execution_count": 62,
     "metadata": {},
     "output_type": "execute_result"
    }
   ],
   "source": [
    "picher_df = picher_df.rename(columns={'연봉(2018)': 'y'})\n",
    "picher_df.head(5)"
   ]
  },
  {
   "cell_type": "markdown",
   "metadata": {},
   "source": [
    "-----"
   ]
  },
  {
   "cell_type": "markdown",
   "metadata": {},
   "source": [
    "### [피처들의 단위 맞춰주기 : one-hot-encoding]"
   ]
  },
  {
   "cell_type": "code",
   "execution_count": 63,
   "metadata": {},
   "outputs": [],
   "source": [
    "# 팀명 피처를 one-hot encoding으로 변환합니다.\n",
    "team_encoding = pd.get_dummies(picher_df['팀명'])\n",
    "picher_df = picher_df.drop('팀명', axis=1)\n",
    "picher_df = picher_df.join(team_encoding)"
   ]
  },
  {
   "cell_type": "code",
   "execution_count": 64,
   "metadata": {},
   "outputs": [
    {
     "data": {
      "text/html": [
       "<div>\n",
       "<style scoped>\n",
       "    .dataframe tbody tr th:only-of-type {\n",
       "        vertical-align: middle;\n",
       "    }\n",
       "\n",
       "    .dataframe tbody tr th {\n",
       "        vertical-align: top;\n",
       "    }\n",
       "\n",
       "    .dataframe thead th {\n",
       "        text-align: right;\n",
       "    }\n",
       "</style>\n",
       "<table border=\"1\" class=\"dataframe\">\n",
       "  <thead>\n",
       "    <tr style=\"text-align: right;\">\n",
       "      <th></th>\n",
       "      <th>KIA</th>\n",
       "      <th>KT</th>\n",
       "      <th>LG</th>\n",
       "      <th>NC</th>\n",
       "      <th>SK</th>\n",
       "      <th>두산</th>\n",
       "      <th>롯데</th>\n",
       "      <th>삼성</th>\n",
       "      <th>한화</th>\n",
       "    </tr>\n",
       "  </thead>\n",
       "  <tbody>\n",
       "    <tr>\n",
       "      <th>0</th>\n",
       "      <td>0</td>\n",
       "      <td>0</td>\n",
       "      <td>0</td>\n",
       "      <td>0</td>\n",
       "      <td>1</td>\n",
       "      <td>0</td>\n",
       "      <td>0</td>\n",
       "      <td>0</td>\n",
       "      <td>0</td>\n",
       "    </tr>\n",
       "    <tr>\n",
       "      <th>1</th>\n",
       "      <td>0</td>\n",
       "      <td>0</td>\n",
       "      <td>1</td>\n",
       "      <td>0</td>\n",
       "      <td>0</td>\n",
       "      <td>0</td>\n",
       "      <td>0</td>\n",
       "      <td>0</td>\n",
       "      <td>0</td>\n",
       "    </tr>\n",
       "    <tr>\n",
       "      <th>2</th>\n",
       "      <td>1</td>\n",
       "      <td>0</td>\n",
       "      <td>0</td>\n",
       "      <td>0</td>\n",
       "      <td>0</td>\n",
       "      <td>0</td>\n",
       "      <td>0</td>\n",
       "      <td>0</td>\n",
       "      <td>0</td>\n",
       "    </tr>\n",
       "    <tr>\n",
       "      <th>3</th>\n",
       "      <td>0</td>\n",
       "      <td>0</td>\n",
       "      <td>1</td>\n",
       "      <td>0</td>\n",
       "      <td>0</td>\n",
       "      <td>0</td>\n",
       "      <td>0</td>\n",
       "      <td>0</td>\n",
       "      <td>0</td>\n",
       "    </tr>\n",
       "    <tr>\n",
       "      <th>4</th>\n",
       "      <td>0</td>\n",
       "      <td>0</td>\n",
       "      <td>0</td>\n",
       "      <td>0</td>\n",
       "      <td>0</td>\n",
       "      <td>0</td>\n",
       "      <td>1</td>\n",
       "      <td>0</td>\n",
       "      <td>0</td>\n",
       "    </tr>\n",
       "  </tbody>\n",
       "</table>\n",
       "</div>"
      ],
      "text/plain": [
       "   KIA  KT  LG  NC  SK  두산  롯데  삼성  한화\n",
       "0    0   0   0   0   1   0   0   0   0\n",
       "1    0   0   1   0   0   0   0   0   0\n",
       "2    1   0   0   0   0   0   0   0   0\n",
       "3    0   0   1   0   0   0   0   0   0\n",
       "4    0   0   0   0   0   0   1   0   0"
      ]
     },
     "execution_count": 64,
     "metadata": {},
     "output_type": "execute_result"
    }
   ],
   "source": [
    "team_encoding.head(5)"
   ]
  },
  {
   "cell_type": "code",
   "execution_count": 65,
   "metadata": {},
   "outputs": [
    {
     "data": {
      "text/html": [
       "<div>\n",
       "<style scoped>\n",
       "    .dataframe tbody tr th:only-of-type {\n",
       "        vertical-align: middle;\n",
       "    }\n",
       "\n",
       "    .dataframe tbody tr th {\n",
       "        vertical-align: top;\n",
       "    }\n",
       "\n",
       "    .dataframe thead th {\n",
       "        text-align: right;\n",
       "    }\n",
       "</style>\n",
       "<table border=\"1\" class=\"dataframe\">\n",
       "  <thead>\n",
       "    <tr style=\"text-align: right;\">\n",
       "      <th></th>\n",
       "      <th>선수명</th>\n",
       "      <th>승</th>\n",
       "      <th>패</th>\n",
       "      <th>세</th>\n",
       "      <th>홀드</th>\n",
       "      <th>블론</th>\n",
       "      <th>경기</th>\n",
       "      <th>선발</th>\n",
       "      <th>이닝</th>\n",
       "      <th>삼진/9</th>\n",
       "      <th>...</th>\n",
       "      <th>연봉(2017)</th>\n",
       "      <th>KIA</th>\n",
       "      <th>KT</th>\n",
       "      <th>LG</th>\n",
       "      <th>NC</th>\n",
       "      <th>SK</th>\n",
       "      <th>두산</th>\n",
       "      <th>롯데</th>\n",
       "      <th>삼성</th>\n",
       "      <th>한화</th>\n",
       "    </tr>\n",
       "  </thead>\n",
       "  <tbody>\n",
       "    <tr>\n",
       "      <th>0</th>\n",
       "      <td>켈리</td>\n",
       "      <td>3.313623</td>\n",
       "      <td>1.227145</td>\n",
       "      <td>-0.306452</td>\n",
       "      <td>-0.585705</td>\n",
       "      <td>-0.543592</td>\n",
       "      <td>0.059433</td>\n",
       "      <td>2.452068</td>\n",
       "      <td>2.645175</td>\n",
       "      <td>0.672099</td>\n",
       "      <td>...</td>\n",
       "      <td>2.734705</td>\n",
       "      <td>0</td>\n",
       "      <td>0</td>\n",
       "      <td>0</td>\n",
       "      <td>0</td>\n",
       "      <td>1</td>\n",
       "      <td>0</td>\n",
       "      <td>0</td>\n",
       "      <td>0</td>\n",
       "      <td>0</td>\n",
       "    </tr>\n",
       "    <tr>\n",
       "      <th>1</th>\n",
       "      <td>소사</td>\n",
       "      <td>2.019505</td>\n",
       "      <td>2.504721</td>\n",
       "      <td>-0.098502</td>\n",
       "      <td>-0.585705</td>\n",
       "      <td>-0.543592</td>\n",
       "      <td>0.059433</td>\n",
       "      <td>2.349505</td>\n",
       "      <td>2.547755</td>\n",
       "      <td>0.134531</td>\n",
       "      <td>...</td>\n",
       "      <td>1.337303</td>\n",
       "      <td>0</td>\n",
       "      <td>0</td>\n",
       "      <td>1</td>\n",
       "      <td>0</td>\n",
       "      <td>0</td>\n",
       "      <td>0</td>\n",
       "      <td>0</td>\n",
       "      <td>0</td>\n",
       "      <td>0</td>\n",
       "    </tr>\n",
       "    <tr>\n",
       "      <th>2</th>\n",
       "      <td>양현종</td>\n",
       "      <td>4.348918</td>\n",
       "      <td>0.907751</td>\n",
       "      <td>-0.306452</td>\n",
       "      <td>-0.585705</td>\n",
       "      <td>-0.543592</td>\n",
       "      <td>0.111056</td>\n",
       "      <td>2.554632</td>\n",
       "      <td>2.706808</td>\n",
       "      <td>0.109775</td>\n",
       "      <td>...</td>\n",
       "      <td>5.329881</td>\n",
       "      <td>1</td>\n",
       "      <td>0</td>\n",
       "      <td>0</td>\n",
       "      <td>0</td>\n",
       "      <td>0</td>\n",
       "      <td>0</td>\n",
       "      <td>0</td>\n",
       "      <td>0</td>\n",
       "      <td>0</td>\n",
       "    </tr>\n",
       "    <tr>\n",
       "      <th>3</th>\n",
       "      <td>차우찬</td>\n",
       "      <td>1.760682</td>\n",
       "      <td>1.227145</td>\n",
       "      <td>-0.306452</td>\n",
       "      <td>-0.585705</td>\n",
       "      <td>-0.543592</td>\n",
       "      <td>-0.043811</td>\n",
       "      <td>2.246942</td>\n",
       "      <td>2.350927</td>\n",
       "      <td>0.350266</td>\n",
       "      <td>...</td>\n",
       "      <td>3.333592</td>\n",
       "      <td>0</td>\n",
       "      <td>0</td>\n",
       "      <td>1</td>\n",
       "      <td>0</td>\n",
       "      <td>0</td>\n",
       "      <td>0</td>\n",
       "      <td>0</td>\n",
       "      <td>0</td>\n",
       "      <td>0</td>\n",
       "    </tr>\n",
       "    <tr>\n",
       "      <th>4</th>\n",
       "      <td>레일리</td>\n",
       "      <td>2.537153</td>\n",
       "      <td>1.227145</td>\n",
       "      <td>-0.306452</td>\n",
       "      <td>-0.585705</td>\n",
       "      <td>-0.543592</td>\n",
       "      <td>0.059433</td>\n",
       "      <td>2.452068</td>\n",
       "      <td>2.587518</td>\n",
       "      <td>0.155751</td>\n",
       "      <td>...</td>\n",
       "      <td>2.734705</td>\n",
       "      <td>0</td>\n",
       "      <td>0</td>\n",
       "      <td>0</td>\n",
       "      <td>0</td>\n",
       "      <td>0</td>\n",
       "      <td>0</td>\n",
       "      <td>1</td>\n",
       "      <td>0</td>\n",
       "      <td>0</td>\n",
       "    </tr>\n",
       "  </tbody>\n",
       "</table>\n",
       "<p>5 rows × 30 columns</p>\n",
       "</div>"
      ],
      "text/plain": [
       "   선수명         승         패         세        홀드        블론        경기        선발  \\\n",
       "0   켈리  3.313623  1.227145 -0.306452 -0.585705 -0.543592  0.059433  2.452068   \n",
       "1   소사  2.019505  2.504721 -0.098502 -0.585705 -0.543592  0.059433  2.349505   \n",
       "2  양현종  4.348918  0.907751 -0.306452 -0.585705 -0.543592  0.111056  2.554632   \n",
       "3  차우찬  1.760682  1.227145 -0.306452 -0.585705 -0.543592 -0.043811  2.246942   \n",
       "4  레일리  2.537153  1.227145 -0.306452 -0.585705 -0.543592  0.059433  2.452068   \n",
       "\n",
       "         이닝      삼진/9  ...  연봉(2017)  KIA  KT  LG  NC  SK  두산  롯데  삼성  한화  \n",
       "0  2.645175  0.672099  ...  2.734705    0   0   0   0   1   0   0   0   0  \n",
       "1  2.547755  0.134531  ...  1.337303    0   0   1   0   0   0   0   0   0  \n",
       "2  2.706808  0.109775  ...  5.329881    1   0   0   0   0   0   0   0   0  \n",
       "3  2.350927  0.350266  ...  3.333592    0   0   1   0   0   0   0   0   0  \n",
       "4  2.587518  0.155751  ...  2.734705    0   0   0   0   0   0   1   0   0  \n",
       "\n",
       "[5 rows x 30 columns]"
      ]
     },
     "execution_count": 65,
     "metadata": {},
     "output_type": "execute_result"
    }
   ],
   "source": [
    "picher_df.head()"
   ]
  },
  {
   "cell_type": "markdown",
   "metadata": {},
   "source": [
    "-----"
   ]
  },
  {
   "cell_type": "markdown",
   "metadata": {},
   "source": [
    "### [회귀 분석 적용하기]"
   ]
  },
  {
   "cell_type": "markdown",
   "metadata": {},
   "source": [
    "##### 회귀 분석을 위한 학습, 테스트 데이터셋 분리"
   ]
  },
  {
   "cell_type": "code",
   "execution_count": 66,
   "metadata": {},
   "outputs": [
    {
     "ename": "ModuleNotFoundError",
     "evalue": "No module named 'sklearn'",
     "output_type": "error",
     "traceback": [
      "\u001b[1;31m---------------------------------------------------------------------------\u001b[0m",
      "\u001b[1;31mModuleNotFoundError\u001b[0m                       Traceback (most recent call last)",
      "Cell \u001b[1;32mIn[66], line 1\u001b[0m\n\u001b[1;32m----> 1\u001b[0m \u001b[38;5;28;01mfrom\u001b[39;00m \u001b[38;5;21;01msklearn\u001b[39;00m \u001b[38;5;28;01mimport\u001b[39;00m linear_model\n\u001b[0;32m      2\u001b[0m \u001b[38;5;28;01mfrom\u001b[39;00m \u001b[38;5;21;01msklearn\u001b[39;00m\u001b[38;5;21;01m.\u001b[39;00m\u001b[38;5;21;01mmodel_selection\u001b[39;00m \u001b[38;5;28;01mimport\u001b[39;00m train_test_split\n\u001b[0;32m      3\u001b[0m \u001b[38;5;28;01mfrom\u001b[39;00m \u001b[38;5;21;01msklearn\u001b[39;00m\u001b[38;5;21;01m.\u001b[39;00m\u001b[38;5;21;01mmetrics\u001b[39;00m \u001b[38;5;28;01mimport\u001b[39;00m mean_squared_error\n",
      "\u001b[1;31mModuleNotFoundError\u001b[0m: No module named 'sklearn'"
     ]
    }
   ],
   "source": [
    "from sklearn import linear_model\n",
    "from sklearn.model_selection import train_test_split\n",
    "from sklearn.metrics import mean_squared_error\n",
    "from math import sqrt\n",
    "\n",
    "# 학습 데이터와 테스트 데이터로 분리합니다.\n",
    "X = picher_df[picher_df.columns.difference(['선수명', 'y'])]\n",
    "y = picher_df['y']\n",
    "X_train, X_test, y_train, y_test = train_test_split(X, y, test_size=0.2, random_state=19)"
   ]
  },
  {
   "cell_type": "markdown",
   "metadata": {},
   "source": [
    "##### 회귀 분석 계수 학습 & 학습된 계수 출력"
   ]
  },
  {
   "cell_type": "code",
   "execution_count": null,
   "metadata": {},
   "outputs": [],
   "source": [
    "# 회귀 분석 계수를 학습합니다 (회귀 모델 학습)\n",
    "lr = linear_model.LinearRegression()\n",
    "model = lr.fit(X_train, y_train)"
   ]
  },
  {
   "cell_type": "code",
   "execution_count": null,
   "metadata": {},
   "outputs": [],
   "source": [
    "# 학습된 계수를 출력합니다.\n",
    "print(lr.coef_)"
   ]
  },
  {
   "cell_type": "code",
   "execution_count": null,
   "metadata": {},
   "outputs": [],
   "source": [
    "picher_df.columns"
   ]
  },
  {
   "cell_type": "markdown",
   "metadata": {},
   "source": [
    "-----"
   ]
  },
  {
   "cell_type": "markdown",
   "metadata": {},
   "source": [
    "# <Step3. 평가> : 예측 모델 평가하기"
   ]
  },
  {
   "cell_type": "markdown",
   "metadata": {},
   "source": [
    "### [어떤 피처가 가장 영향력이 강한 피처일까]"
   ]
  },
  {
   "cell_type": "code",
   "execution_count": 67,
   "metadata": {},
   "outputs": [
    {
     "name": "stdout",
     "output_type": "stream",
     "text": [
      "Collecting statsmodels\n",
      "  Downloading statsmodels-0.13.5-cp38-cp38-win_amd64.whl (9.2 MB)\n",
      "     ---------------------------------------- 9.2/9.2 MB 7.9 MB/s eta 0:00:00\n",
      "Requirement already satisfied: packaging>=21.3 in c:\\workspace\\envs\\pybook\\lib\\site-packages (from statsmodels) (23.0)\n",
      "Requirement already satisfied: scipy>=1.3 in c:\\workspace\\envs\\pybook\\lib\\site-packages (from statsmodels) (1.10.1)\n",
      "Collecting patsy>=0.5.2\n",
      "  Downloading patsy-0.5.3-py2.py3-none-any.whl (233 kB)\n",
      "     ------------------------------------- 233.8/233.8 kB 14.0 MB/s eta 0:00:00\n",
      "Requirement already satisfied: pandas>=0.25 in c:\\workspace\\envs\\pybook\\lib\\site-packages (from statsmodels) (1.5.3)\n",
      "Requirement already satisfied: numpy>=1.17 in c:\\workspace\\envs\\pybook\\lib\\site-packages (from statsmodels) (1.24.2)\n",
      "Requirement already satisfied: python-dateutil>=2.8.1 in c:\\workspace\\envs\\pybook\\lib\\site-packages (from pandas>=0.25->statsmodels) (2.8.2)\n",
      "Requirement already satisfied: pytz>=2020.1 in c:\\workspace\\envs\\pybook\\lib\\site-packages (from pandas>=0.25->statsmodels) (2022.7.1)\n",
      "Requirement already satisfied: six in c:\\workspace\\envs\\pybook\\lib\\site-packages (from patsy>=0.5.2->statsmodels) (1.16.0)\n",
      "Installing collected packages: patsy, statsmodels\n",
      "Successfully installed patsy-0.5.3 statsmodels-0.13.5\n"
     ]
    }
   ],
   "source": [
    "!pip install statsmodels"
   ]
  },
  {
   "cell_type": "code",
   "execution_count": 68,
   "metadata": {},
   "outputs": [
    {
     "ename": "NameError",
     "evalue": "name 'X_train' is not defined",
     "output_type": "error",
     "traceback": [
      "\u001b[1;31m---------------------------------------------------------------------------\u001b[0m",
      "\u001b[1;31mNameError\u001b[0m                                 Traceback (most recent call last)",
      "Cell \u001b[1;32mIn[68], line 4\u001b[0m\n\u001b[0;32m      1\u001b[0m \u001b[38;5;28;01mimport\u001b[39;00m \u001b[38;5;21;01mstatsmodels\u001b[39;00m\u001b[38;5;21;01m.\u001b[39;00m\u001b[38;5;21;01mapi\u001b[39;00m \u001b[38;5;28;01mas\u001b[39;00m \u001b[38;5;21;01msm\u001b[39;00m\n\u001b[0;32m      3\u001b[0m \u001b[38;5;66;03m# statsmodel 라이브러리로 회귀 분석을 수행합니다.\u001b[39;00m\n\u001b[1;32m----> 4\u001b[0m X_train \u001b[38;5;241m=\u001b[39m sm\u001b[38;5;241m.\u001b[39madd_constant(\u001b[43mX_train\u001b[49m)\n\u001b[0;32m      5\u001b[0m model \u001b[38;5;241m=\u001b[39m sm\u001b[38;5;241m.\u001b[39mOLS(y_train, X_train)\u001b[38;5;241m.\u001b[39mfit()\n\u001b[0;32m      6\u001b[0m model\u001b[38;5;241m.\u001b[39msummary()\n",
      "\u001b[1;31mNameError\u001b[0m: name 'X_train' is not defined"
     ]
    }
   ],
   "source": [
    "import statsmodels.api as sm\n",
    "\n",
    "# statsmodel 라이브러리로 회귀 분석을 수행합니다.\n",
    "X_train = sm.add_constant(X_train)\n",
    "model = sm.OLS(y_train, X_train).fit()\n",
    "model.summary()"
   ]
  },
  {
   "cell_type": "code",
   "execution_count": null,
   "metadata": {},
   "outputs": [],
   "source": [
    "# 한글 출력을 위한 사전 설정 단계입니다.\n",
    "mpl.rc('font', family='AppleGothic')\n",
    "plt.rcParams['figure.figsize'] = [20, 16]\n",
    "\n",
    "# 회귀 계수를 리스트로 반환합니다.\n",
    "coefs = model.params.tolist()\n",
    "coefs_series = pd.Series(coefs)\n",
    "\n",
    "# 변수명을 리스트로 반환합니다.\n",
    "x_labels = model.params.index.tolist()\n",
    "\n",
    "# 회귀 계수를 출력합니다.\n",
    "ax = coefs_series.plot(kind='bar')\n",
    "ax.set_title('feature_coef_graph')\n",
    "ax.set_xlabel('x_features')\n",
    "ax.set_ylabel('coef')\n",
    "ax.set_xticklabels(x_labels)"
   ]
  },
  {
   "cell_type": "markdown",
   "metadata": {},
   "source": [
    "-----"
   ]
  },
  {
   "cell_type": "markdown",
   "metadata": {},
   "source": [
    "### [예측 모델의 평가]"
   ]
  },
  {
   "cell_type": "code",
   "execution_count": null,
   "metadata": {},
   "outputs": [],
   "source": [
    "# 학습 데이터와 테스트 데이터로 분리합니다.\n",
    "X = picher_df[picher_df.columns.difference(['선수명', 'y'])]\n",
    "y = picher_df['y']\n",
    "X_train, X_test, y_train, y_test = train_test_split(X, y, test_size=0.2, random_state=19)"
   ]
  },
  {
   "cell_type": "code",
   "execution_count": null,
   "metadata": {},
   "outputs": [],
   "source": [
    "# 회귀 분석 모델을 학습합니다.\n",
    "lr = linear_model.LinearRegression()\n",
    "model = lr.fit(X_train, y_train)"
   ]
  },
  {
   "cell_type": "markdown",
   "metadata": {},
   "source": [
    "##### R2 score"
   ]
  },
  {
   "cell_type": "code",
   "execution_count": null,
   "metadata": {},
   "outputs": [],
   "source": [
    "# 회귀 분석 모델을 평가합니다.\n",
    "print(model.score(X_train, y_train)) # train R2 score를 출력합니다.\n",
    "print(model.score(X_test, y_test)) # test R2 score를 출력합니다."
   ]
  },
  {
   "cell_type": "markdown",
   "metadata": {},
   "source": [
    "##### RMSE score"
   ]
  },
  {
   "cell_type": "code",
   "execution_count": null,
   "metadata": {},
   "outputs": [],
   "source": [
    "# 회귀 분석 모델을 평가합니다.\n",
    "y_predictions = lr.predict(X_train)\n",
    "print(sqrt(mean_squared_error(y_train, y_predictions))) # train RMSE score를 출력합니다.\n",
    "y_predictions = lr.predict(X_test)\n",
    "print(sqrt(mean_squared_error(y_test, y_predictions))) # test RMSE score를 출력합니다."
   ]
  },
  {
   "cell_type": "markdown",
   "metadata": {},
   "source": [
    "-----"
   ]
  },
  {
   "cell_type": "markdown",
   "metadata": {},
   "source": [
    "### `[미니 퀴즈 - 3.1]`\n",
    "- `Train score, 그리고 Test score의 차이점은 무엇일까요? 그리고 어떤 점수가 더 높아야 할까요?` \n",
    "    - 훈련 데이터셋을 통해 계산한 점수와 테스트 데이터셋을 통해 계산한 점수간에는 어떤 차이가 있는 것인지 적어 봅시다. 그리고 이 두 점수의 차이가 크다면, 어떤 상황을 의미하는 것인지 생각해 봅시다.\n",
    "        - `대답 예시` : 훈련 데이터셋은 오로지 모델을 학습하고, 비용함수(오차함수)를 평가하는데 사용됩니다. 반면, 테스트 데이터셋은 모델에 영향을 미치지 않습니다. 결과를 예측하기 위한 입력데이터로만 활용됩니다. 가장 이상적인 경우는 Train score, Test score가 차이가 없는 것입니다. 이 차이가 벌어질수록 모델이 훈련 데이터셋에 과적합된 것입니다. 일반적으로는 Train score가 약간 더 높습니다."
   ]
  },
  {
   "cell_type": "markdown",
   "metadata": {},
   "source": [
    "-----"
   ]
  },
  {
   "cell_type": "markdown",
   "metadata": {},
   "source": [
    "### [피처들의 상관관계 분석]"
   ]
  },
  {
   "cell_type": "code",
   "execution_count": null,
   "metadata": {},
   "outputs": [],
   "source": [
    "import seaborn as sns\n",
    "\n",
    "# 피처간의 상관계수 행렬을 계산합니다.\n",
    "corr = picher_df[scale_columns].corr(method='pearson')\n",
    "show_cols = ['win', 'lose', 'save', 'hold', 'blon', 'match', 'start', \n",
    "             'inning', 'strike3', 'ball4', 'homerun', 'BABIP', 'LOB', \n",
    "             'ERA', 'RA9-WAR', 'FIP', 'kFIP', 'WAR', '2017']\n",
    "\n",
    "# corr 행렬 히트맵을 시각화합니다.\n",
    "plt.rc('font', family='NanumGothicOTF')\n",
    "sns.set(font_scale=1.5)\n",
    "hm = sns.heatmap(corr.values,\n",
    "            cbar=True,\n",
    "            annot=True, \n",
    "            square=True,\n",
    "            fmt='.2f',\n",
    "            annot_kws={'size': 15},\n",
    "            yticklabels=show_cols,\n",
    "            xticklabels=show_cols)\n",
    "\n",
    "plt.tight_layout()\n",
    "plt.show()"
   ]
  },
  {
   "cell_type": "markdown",
   "metadata": {},
   "source": [
    "-----"
   ]
  },
  {
   "cell_type": "markdown",
   "metadata": {},
   "source": [
    "### [회귀분석 예측 성능을 높이기 위한 방법 : 다중공선성 확인]"
   ]
  },
  {
   "cell_type": "code",
   "execution_count": null,
   "metadata": {},
   "outputs": [],
   "source": [
    "from statsmodels.stats.outliers_influence import variance_inflation_factor"
   ]
  },
  {
   "cell_type": "code",
   "execution_count": null,
   "metadata": {},
   "outputs": [],
   "source": [
    "# 피처마다의 VIF 계수를 출력합니다.\n",
    "vif = pd.DataFrame()\n",
    "vif[\"VIF Factor\"] = [variance_inflation_factor(X.values, i) for i in range(X.shape[1])]\n",
    "vif[\"features\"] = X.columns\n",
    "vif.round(1)"
   ]
  },
  {
   "cell_type": "markdown",
   "metadata": {},
   "source": [
    "-----"
   ]
  },
  {
   "cell_type": "markdown",
   "metadata": {},
   "source": [
    "### `[미니 퀴즈 - 3.2]`\n",
    "- `적절한 피처를 선정하여 다시 학습해 보세요.` \n",
    "    - 사용할 피처를 다시 고른 뒤, 다시 학습을 진행했을 때의 Train score, Test score가 어떻게 향상되는지 살펴봅니다.\n",
    "        - 저자의 경우 아래의 과정을 거쳐 ['FIP', 'WAR', '볼넷/9', '삼진/9', '연봉(2017)'] 피처를 선정했을 때, 더욱 좋은 결과를 나타냈습니다.\n",
    "            - 선정 과정\n",
    "                - 1. VIF 계수가 높은 피처들을 우선적으로 제거합니다. 단, (FIP, kFIP)와 같이 유사한 두가지 피처중에는 하나만을 제거합니다.\n",
    "                - 2. 다시 공선성을 검증합니다. 이전 단계에서는 VIF 계수가 높았던 볼넷, 삼진 등의 피처의 VIF 계수가 낮아진 것을 확인할 수 있습니다. VIF 계수가 비정상적으로 높은 피처를 제거해주면, 다른 피처들의 공선성도 자연스레 감소하기 때문입니다.\n",
    "                - 3. 여전히 VIF 계수가 높은 피처들을 제거합니다.\n",
    "                - 4. 남은 피처를 토대로 다시한번 회귀분석을 실시합니다. 분석 결과에서 p-value가 유의하면서도 영향력이 큰 피처들을 선정합니다.\n",
    "            - train_score, test_score를 비교했을 때, 기존보다 overfit이 비교적 덜 된것으로 보입니다\n",
    "            - test rmse 역시 감소한 것을 볼 수 있습니다."
   ]
  },
  {
   "cell_type": "markdown",
   "metadata": {},
   "source": [
    "### [적절한 피처로 다시 학습하기]"
   ]
  },
  {
   "cell_type": "code",
   "execution_count": null,
   "metadata": {},
   "outputs": [],
   "source": [
    "# 피처를 재선정합니다.\n",
    "X = picher_df[['FIP', 'WAR', '볼넷/9', '삼진/9', '연봉(2017)']]\n",
    "y = picher_df['y']\n",
    "X_train, X_test, y_train, y_test = train_test_split(X, y, test_size=0.2, random_state=19)"
   ]
  },
  {
   "cell_type": "code",
   "execution_count": null,
   "metadata": {},
   "outputs": [],
   "source": [
    "# 모델을 학습합니다.\n",
    "lr = linear_model.LinearRegression()\n",
    "model = lr.fit(X_train, y_train)"
   ]
  },
  {
   "cell_type": "code",
   "execution_count": null,
   "metadata": {},
   "outputs": [],
   "source": [
    "# 결과를 출력합니다.\n",
    "print(model.score(X_train, y_train)) # train R2 score를 출력합니다.\n",
    "print(model.score(X_test, y_test)) # test R2 score를 출력합니다."
   ]
  },
  {
   "cell_type": "code",
   "execution_count": null,
   "metadata": {},
   "outputs": [],
   "source": [
    "# 회귀 분석 모델을 평가합니다.\n",
    "y_predictions = lr.predict(X_train)\n",
    "print(sqrt(mean_squared_error(y_train, y_predictions))) # train RMSE score를 출력합니다.\n",
    "y_predictions = lr.predict(X_test)\n",
    "print(sqrt(mean_squared_error(y_test, y_predictions))) # test RMSE score를 출력합니다."
   ]
  },
  {
   "cell_type": "code",
   "execution_count": null,
   "metadata": {},
   "outputs": [],
   "source": [
    "# 피처마다의 VIF 계수를 출력합니다.\n",
    "X = picher_df[['FIP', 'WAR', '볼넷/9', '삼진/9', '연봉(2017)']]\n",
    "vif = pd.DataFrame()\n",
    "vif[\"VIF Factor\"] = [variance_inflation_factor(X.values, i) for i in range(X.shape[1])]\n",
    "vif[\"features\"] = X.columns\n",
    "vif.round(1)"
   ]
  },
  {
   "cell_type": "markdown",
   "metadata": {},
   "source": [
    "-----"
   ]
  },
  {
   "cell_type": "markdown",
   "metadata": {},
   "source": [
    "# <Step4. 시각화> : 분석 결과의 시각화"
   ]
  },
  {
   "cell_type": "markdown",
   "metadata": {},
   "source": [
    "### [예상 연봉과 실제 연봉 비교]"
   ]
  },
  {
   "cell_type": "code",
   "execution_count": null,
   "metadata": {},
   "outputs": [],
   "source": [
    "# 2018년 연봉을 예측하여 데이터프레임의 column으로 생성합니다.\n",
    "X = picher_df[['FIP', 'WAR', '볼넷/9', '삼진/9', '연봉(2017)']]\n",
    "predict_2018_salary = lr.predict(X)\n",
    "picher_df['예측연봉(2018)'] = pd.Series(predict_2018_salary)"
   ]
  },
  {
   "cell_type": "code",
   "execution_count": null,
   "metadata": {},
   "outputs": [],
   "source": [
    "# 원래의 데이터 프레임을 다시 로드합니다.\n",
    "picher = pd.read_csv(picher_file_path)\n",
    "picher = picher[['선수명', '연봉(2017)']]\n",
    "\n",
    "# 원래의 데이터 프레임에 2018년 연봉 정보를 합칩니다.\n",
    "result_df = picher_df.sort_values(by=['y'], ascending=False)\n",
    "result_df.drop(['연봉(2017)'], axis=1, inplace=True, errors='ignore')\n",
    "result_df = result_df.merge(picher, on=['선수명'], how='left')\n",
    "result_df = result_df[['선수명', 'y', '예측연봉(2018)', '연봉(2017)']]\n",
    "result_df.columns = ['선수명', '실제연봉(2018)', '예측연봉(2018)', '작년연봉(2017)']\n",
    "\n",
    "# 재계약하여 연봉이 변화한 선수만을 대상으로 관찰합니다.\n",
    "result_df = result_df[result_df['작년연봉(2017)'] != result_df['실제연봉(2018)']]\n",
    "result_df = result_df.reset_index()\n",
    "result_df = result_df.iloc[:10, :]\n",
    "result_df.head(10)"
   ]
  },
  {
   "cell_type": "code",
   "execution_count": null,
   "metadata": {},
   "outputs": [],
   "source": [
    "# 선수별 연봉 정보(작년 연봉, 예측 연봉, 실제 연봉)를 bar 그래프로 출력합니다.\n",
    "mpl.rc('font', family='NanumGothicOTF')\n",
    "result_df.plot(x='선수명', y=['작년연봉(2017)', '예측연봉(2018)', '실제연봉(2018)'], kind=\"bar\")"
   ]
  },
  {
   "cell_type": "code",
   "execution_count": 72,
   "metadata": {
    "scrolled": true
   },
   "outputs": [
    {
     "name": "stdout",
     "output_type": "stream",
     "text": [
      "한화 평균 연봉: 22253.846153846152\n",
      "SK 평균 연봉: 17736.842105263157\n",
      "t-test 통계량: 0.6624041217840793\n",
      "p-value: 0.5099280465043418\n"
     ]
    }
   ],
   "source": [
    "import pandas as pd\n",
    "import numpy as np\n",
    "import matplotlib.pyplot as plt\n",
    "from scipy.stats import ttest_ind\n",
    "\n",
    "import warnings\n",
    "warnings.filterwarnings(\"ignore\")\n",
    "\n",
    "# 데이터 불러오기\n",
    "picher_file_path = '../data/picher_stats_2017.csv'\n",
    "batter_file_path = '../data/batter_stats_2017.csv'\n",
    "picher = pd.read_csv(picher_file_path)\n",
    "batter = pd.read_csv(batter_file_path)\n",
    "\n",
    "# 팀 정보와 연봉 정보가 포함된 데이터프레임 생성\n",
    "baseball = pd.concat([picher, batter])\n",
    "\n",
    "\n",
    "\n",
    "# 한화와 SK 데이터만 추출\n",
    "hanhwa = baseball.loc[baseball['팀명'] == '한화']\n",
    "sk = baseball.loc[baseball['팀명'] == 'SK']\n",
    "\n",
    "# 각 팀의 연봉 평균 계산\n",
    "hanhwa_mean = hanhwa['연봉(2017)'].mean()\n",
    "sk_mean = sk['연봉(2017)'].mean()\n",
    "\n",
    "# t-test로 두 팀 간의 차이 검정\n",
    "t_stat, p_val = ttest_ind(hanhwa['연봉(2017)'], sk['연봉(2017)'], equal_var=False)\n",
    "\n",
    "print('한화 평균 연봉:', hanhwa_mean)\n",
    "print('SK 평균 연봉:', sk_mean)\n",
    "print('t-test 통계량:', t_stat)\n",
    "print('p-value:', p_val)"
   ]
  },
  {
   "cell_type": "code",
   "execution_count": null,
   "metadata": {},
   "outputs": [],
   "source": []
  },
  {
   "cell_type": "code",
   "execution_count": null,
   "metadata": {},
   "outputs": [],
   "source": []
  },
  {
   "cell_type": "code",
   "execution_count": null,
   "metadata": {},
   "outputs": [],
   "source": []
  },
  {
   "cell_type": "code",
   "execution_count": null,
   "metadata": {},
   "outputs": [],
   "source": []
  }
 ],
 "metadata": {
  "kernelspec": {
   "display_name": "Python 3 (ipykernel)",
   "language": "python",
   "name": "python3"
  },
  "language_info": {
   "codemirror_mode": {
    "name": "ipython",
    "version": 3
   },
   "file_extension": ".py",
   "mimetype": "text/x-python",
   "name": "python",
   "nbconvert_exporter": "python",
   "pygments_lexer": "ipython3",
   "version": "3.8.16"
  },
  "toc": {
   "base_numbering": 1,
   "nav_menu": {},
   "number_sections": true,
   "sideBar": true,
   "skip_h1_title": false,
   "title_cell": "Table of Contents",
   "title_sidebar": "Contents",
   "toc_cell": false,
   "toc_position": {
    "height": "calc(100% - 180px)",
    "left": "10px",
    "top": "150px",
    "width": "384px"
   },
   "toc_section_display": true,
   "toc_window_display": true
  }
 },
 "nbformat": 4,
 "nbformat_minor": 4
}
