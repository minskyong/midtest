{
 "cells": [
  {
   "cell_type": "code",
   "execution_count": 1,
   "id": "be216b2d",
   "metadata": {},
   "outputs": [
    {
     "name": "stdout",
     "output_type": "stream",
     "text": [
      "맥주와 와인 간의 피어슨 상관값: 0.2977739788485701\n"
     ]
    }
   ],
   "source": [
    "import pandas as pd\n",
    "\n",
    "# 데이터 불러오기\n",
    "file_path = '../data/drinks.csv'\n",
    "drinks = pd.read_csv(file_path) # read_csv 함수로 데이터를 Dataframe 형태로 불러옵니다.\n",
    "\n",
    "# 유럽 국가들의 데이터 추출\n",
    "eu_drinks = drinks.loc[drinks['continent'] == 'EU']\n",
    "\n",
    "# 맥주와 와인 간의 상관관계 계산\n",
    "corr = eu_drinks['beer_servings'].corr(eu_drinks['wine_servings'], method='pearson')\n",
    "\n",
    "print('맥주와 와인 간의 피어슨 상관값:', corr)"
   ]
  },
  {
   "cell_type": "code",
   "execution_count": null,
   "id": "29a77be9",
   "metadata": {},
   "outputs": [],
   "source": []
  }
 ],
 "metadata": {
  "kernelspec": {
   "display_name": "Python 3 (ipykernel)",
   "language": "python",
   "name": "python3"
  },
  "language_info": {
   "codemirror_mode": {
    "name": "ipython",
    "version": 3
   },
   "file_extension": ".py",
   "mimetype": "text/x-python",
   "name": "python",
   "nbconvert_exporter": "python",
   "pygments_lexer": "ipython3",
   "version": "3.8.16"
  }
 },
 "nbformat": 4,
 "nbformat_minor": 5
}
