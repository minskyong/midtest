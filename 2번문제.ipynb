{
 "cells": [
  {
   "cell_type": "code",
   "execution_count": 1,
   "id": "be216b2d",
   "metadata": {},
   "outputs": [
    {
     "name": "stdout",
     "output_type": "stream",
     "text": [
      "맥주와 와인 간의 피어슨 상관값: 0.2977739788485701\n"
     ]
    }
   ],
   "source": [
    "import pandas as pd\n",
    "\n",
    "# 데이터 불러오기\n",
    "file_path = '../data/drinks.csv'\n",
    "drinks = pd.read_csv(file_path) # read_csv 함수로 데이터를 Dataframe 형태로 불러옵니다.\n",
    "\n",
    "# 유럽 국가들의 데이터 추출\n",
    "eu_drinks = drinks.loc[drinks['continent'] == 'EU']\n",
    "\n",
    "# 맥주와 와인 간의 상관관계 계산\n",
    "corr = eu_drinks['beer_servings'].corr(eu_drinks['wine_servings'], method='pearson')\n",
    "\n",
    "print('맥주와 와인 간의 피어슨 상관값:', corr)"
   ]
  },
  {
   "cell_type": "markdown",
   "id": "12216de1",
   "metadata": {},
   "source": [
    "\n",
    "\n",
    " 'drinks.csv' 파일을 불러와서 drinks 변수에 저장\n",
    "\n",
    "\n",
    " 유럽 국가들 데이터를 추출위해  loc 함수를 이용\n",
    " continent가 'EU'인 행 선택해 eu_drinks 변수에 저장.\n",
    "\n",
    "\n",
    " corr 함수를 이용하고, method 인자로 'pearson' 값을 전달하여 \n",
    " 유럽 국가들의 맥주 소비량과 와인 소비량 간의 피어슨 상관관계를 계산\n",
    "\n",
    " corr 값이 출력"
   ]
  }
 ],
 "metadata": {
  "kernelspec": {
   "display_name": "Python 3 (ipykernel)",
   "language": "python",
   "name": "python3"
  },
  "language_info": {
   "codemirror_mode": {
    "name": "ipython",
    "version": 3
   },
   "file_extension": ".py",
   "mimetype": "text/x-python",
   "name": "python",
   "nbconvert_exporter": "python",
   "pygments_lexer": "ipython3",
   "version": "3.8.16"
  }
 },
 "nbformat": 4,
 "nbformat_minor": 5
}
